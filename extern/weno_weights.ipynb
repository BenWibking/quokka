{
 "cells": [
  {
   "cell_type": "code",
   "execution_count": 66,
   "id": "abcb19eb",
   "metadata": {},
   "outputs": [],
   "source": [
    "import numpy as np\n",
    "from sympy import *"
   ]
  },
  {
   "cell_type": "code",
   "execution_count": 67,
   "id": "23e217cb",
   "metadata": {},
   "outputs": [],
   "source": [
    "x, qbar, qx, qxx = symbols(\"x qbar q_x q_xx\")"
   ]
  },
  {
   "cell_type": "code",
   "execution_count": 68,
   "id": "e5ca877e",
   "metadata": {},
   "outputs": [],
   "source": [
    "profile = qbar + x * qx + (x**2 - Rational(1,12)) * qxx"
   ]
  },
  {
   "cell_type": "code",
   "execution_count": 69,
   "id": "9cec7e13",
   "metadata": {},
   "outputs": [
    {
     "data": {
      "text/latex": [
       "$\\displaystyle \\bar{q}$"
      ],
      "text/plain": [
       "qbar"
      ]
     },
     "execution_count": 69,
     "metadata": {},
     "output_type": "execute_result"
    }
   ],
   "source": [
    "# compute mean value\n",
    "integrate(profile, (x, Rational(-1,2), Rational(1,2)))"
   ]
  },
  {
   "cell_type": "code",
   "execution_count": 70,
   "id": "2123c1f5",
   "metadata": {},
   "outputs": [
    {
     "data": {
      "text/latex": [
       "$\\displaystyle - \\frac{q_{xx}}{12} + \\bar{q}$"
      ],
      "text/plain": [
       "-q_xx/12 + qbar"
      ]
     },
     "execution_count": 70,
     "metadata": {},
     "output_type": "execute_result"
    }
   ],
   "source": [
    "# compute point value\n",
    "profile.subs(x, 0)"
   ]
  },
  {
   "cell_type": "code",
   "execution_count": 73,
   "id": "6e5ca46e",
   "metadata": {},
   "outputs": [],
   "source": [
    "from sympy.solvers.solveset import linsolve"
   ]
  },
  {
   "cell_type": "code",
   "execution_count": 92,
   "id": "e62a6641",
   "metadata": {},
   "outputs": [
    {
     "data": {
      "text/latex": [
       "$\\displaystyle \\left( \\frac{3 \\hat{q}}{2} - 2 \\hat{q}_{-1} + \\frac{\\hat{q}_{-2}}{2}, \\  \\frac{\\hat{q}}{2} - \\hat{q}_{-1} + \\frac{\\hat{q}_{-2}}{2}\\right)$"
      ],
      "text/plain": [
       "(3*\\hat{q}/2 - 2*\\hat{q}_{-1} + \\hat{q}_{-2}/2, \\hat{q}/2 - \\hat{q}_{-1} + \\hat{q}_{-2}/2)"
      ]
     },
     "execution_count": 92,
     "metadata": {},
     "output_type": "execute_result"
    }
   ],
   "source": [
    "# compute L stencil from point values\n",
    "qhat_m2, qhat_m1, qhat = symbols(\"\\hat{q}_{-2} \\hat{q}_{-1} \\hat{q}\")\n",
    "sol_Lstencil = linsolve([profile.subs(x, 0) - qhat, profile.subs(x, -1) - qhat_m1, profile.subs(x, -2) - qhat_m2], [qbar, qx, qxx])\n",
    "sol_Lstencil.args[0][1:] # use only qx, qxx here"
   ]
  },
  {
   "cell_type": "code",
   "execution_count": 91,
   "id": "e0b77c38",
   "metadata": {},
   "outputs": [
    {
     "data": {
      "text/latex": [
       "$\\displaystyle \\left( \\frac{\\hat{q}_{+1}}{2} - \\frac{\\hat{q}_{-1}}{2}, \\  - \\hat{q} + \\frac{\\hat{q}_{+1}}{2} + \\frac{\\hat{q}_{-1}}{2}\\right)$"
      ],
      "text/plain": [
       "(\\hat{q}_{+1}/2 - \\hat{q}_{-1}/2, -\\hat{q} + \\hat{q}_{+1}/2 + \\hat{q}_{-1}/2)"
      ]
     },
     "execution_count": 91,
     "metadata": {},
     "output_type": "execute_result"
    }
   ],
   "source": [
    "# compute C stencil from point values\n",
    "qhat_m1, qhat, qhat_p1 = symbols(\"\\hat{q}_{-1} \\hat{q} \\hat{q}_{+1}\")\n",
    "sol_Cstencil = linsolve([profile.subs(x, 0) - qhat, profile.subs(x, -1) - qhat_m1, profile.subs(x, 1) - qhat_p1], [qbar, qx, qxx])\n",
    "sol_Cstencil.args[0][1:] # use only qx, qxx here"
   ]
  },
  {
   "cell_type": "code",
   "execution_count": 90,
   "id": "e11fb5a2",
   "metadata": {},
   "outputs": [
    {
     "data": {
      "text/latex": [
       "$\\displaystyle \\left( - \\frac{3 \\hat{q}}{2} + 2 \\hat{q}_{+1} - \\frac{\\hat{q}_{+2}}{2}, \\  \\frac{\\hat{q}}{2} - \\hat{q}_{+1} + \\frac{\\hat{q}_{+2}}{2}\\right)$"
      ],
      "text/plain": [
       "(-3*\\hat{q}/2 + 2*\\hat{q}_{+1} - \\hat{q}_{+2}/2, \\hat{q}/2 - \\hat{q}_{+1} + \\hat{q}_{+2}/2)"
      ]
     },
     "execution_count": 90,
     "metadata": {},
     "output_type": "execute_result"
    }
   ],
   "source": [
    "# compute R stencil from point values\n",
    "qhat, qhat_p1, qhat_p2 = symbols(\"\\hat{q} \\hat{q}_{+1} \\hat{q}_{+2}\")\n",
    "sol_Rstencil = linsolve([profile.subs(x, 0) - qhat, profile.subs(x, 1) - qhat_p1, profile.subs(x, 2) - qhat_p2], [qbar, qx, qxx])\n",
    "sol_Rstencil.args[0][1:] # use only qx, qxx here"
   ]
  },
  {
   "cell_type": "markdown",
   "id": "5d0ce5d7",
   "metadata": {},
   "source": [
    "We see that the expressions for the moments computed from the cell-centered data are formally *identical* to those computed with the cell-average data!"
   ]
  },
  {
   "cell_type": "code",
   "execution_count": null,
   "id": "75b469f7",
   "metadata": {},
   "outputs": [],
   "source": []
  }
 ],
 "metadata": {
  "kernelspec": {
   "display_name": "Python 3 (ipykernel)",
   "language": "python",
   "name": "python3"
  },
  "language_info": {
   "codemirror_mode": {
    "name": "ipython",
    "version": 3
   },
   "file_extension": ".py",
   "mimetype": "text/x-python",
   "name": "python",
   "nbconvert_exporter": "python",
   "pygments_lexer": "ipython3",
   "version": "3.10.4"
  }
 },
 "nbformat": 4,
 "nbformat_minor": 5
}
