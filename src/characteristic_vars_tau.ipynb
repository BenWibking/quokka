{
 "cells": [
  {
   "cell_type": "markdown",
   "metadata": {},
   "source": [
    "## Characteristic Reconstruction with $\\tau \\equiv \\rho^{-1}$"
   ]
  },
  {
   "cell_type": "code",
   "execution_count": 1,
   "metadata": {},
   "outputs": [],
   "source": [
    "from sympy import *\n",
    "init_printing(use_unicode=True)"
   ]
  },
  {
   "cell_type": "markdown",
   "metadata": {},
   "source": [
    "### Conserved variables\n",
    "We start with the Euler equations in conservation-law form, with the vector of conserved variables $U$ and primitive variables $q$. Then we compute the $P$ matrix ($P_{ij} = \\partial U_i / \\partial q_j$) and the $Q_x$ matrix ($Q_{k,ij} = \\partial F_{k,i} / \\partial q_j$, where $F_k$ is the flux vector in the $k$ direction) (Sutherland and Kennedy, 2002). ($F$ denotes the fluxes of the conserved variables.)\n",
    "\n",
    "*See also:* Zingale and Katz (2015)."
   ]
  },
  {
   "cell_type": "code",
   "execution_count": 2,
   "metadata": {},
   "outputs": [
    {
     "data": {
      "image/png": "[encoded data removed]",
      "text/latex": [
       "$\\displaystyle \\frac{\\tau^{2} \\left(P + \\frac{\\partial}{\\partial \\tau} e{\\left(\\frac{1}{\\tau},P \\right)}\\right)}{c^{2}}$"
      ],
      "text/plain": [
       " 2 ⎛    ∂ ⎛ ⎛1   ⎞⎞⎞\n",
       "τ ⋅⎜P + ──⎜e⎜─, P⎟⎟⎟\n",
       "   ⎝    ∂τ⎝ ⎝τ   ⎠⎠⎠\n",
       "────────────────────\n",
       "          2         \n",
       "         c          "
      ]
     },
     "execution_count": 2,
     "metadata": {},
     "output_type": "execute_result"
    }
   ],
   "source": [
    "# define symbols\n",
    "tau = Symbol('tau', positive=True) # specific volume (== 1/rho)\n",
    "p = Symbol('P', positive=True) # pressure\n",
    "u = Symbol('u') # normal velocity\n",
    "v = Symbol('v') # transverse velocity\n",
    "w = Symbol('w') # transverse velocity\n",
    "s = Symbol('s') # passive scalar\n",
    "c = Symbol('c') # sound speed\n",
    "e_aux = Symbol('e_{aux}')\n",
    "\n",
    "rho = 1/tau\n",
    "e = Function('e')(rho, p) # specific internal energy\n",
    "E = rho*e + rho*(u**2 + v**2 + w**2)/2 # total energy density\n",
    "\n",
    "# compute de/drho\n",
    "# (this is needed to rewrite the thermodynamic derivatives in terms of the sound speed)\n",
    "dtau_drho = -rho**(-2)\n",
    "p = Symbol('P', positive=True) # pressure\n",
    "c = Symbol('c') # sound speed\n",
    "e = Function('e')(rho, p) # specific internal energy\n",
    "de_dp = solveset(Eq(c**2, (p - rho**2 * dtau_drho * Derivative(e, tau)) / (rho**2 * Derivative(e,p))), Derivative(e, p)).args[0].args[0]\n",
    "de_dp"
   ]
  },
  {
   "cell_type": "code",
   "execution_count": 3,
   "metadata": {},
   "outputs": [
    {
     "data": {
      "image/png": "[encoded data removed]",
      "text/latex": [
       "$\\displaystyle \\left[\\begin{matrix}- \\frac{1}{\\tau^{2}} & 0 & 0 & 0\\\\- \\frac{u}{\\tau^{2}} & \\frac{1}{\\tau} & 0 & 0\\\\\\frac{\\frac{\\tau \\left(- u^{2} - v^{2} - w^{2} - 2 e{\\left(\\frac{1}{\\tau},P \\right)}\\right)}{2} - \\left. \\frac{\\partial}{\\partial \\xi_{1}} e{\\left(\\xi_{1},P \\right)} \\right|_{\\substack{ \\xi_{1}=\\frac{1}{\\tau} }}}{\\tau^{3}} & \\frac{u}{\\tau} & \\frac{\\frac{\\partial}{\\partial P} e{\\left(\\frac{1}{\\tau},P \\right)}}{\\tau} & 0\\\\- \\frac{e_{aux}}{\\tau^{2}} & 0 & 0 & \\frac{1}{\\tau}\\end{matrix}\\right]$"
      ],
      "text/plain": [
       "⎡                         -1                                             ⎤\n",
       "⎢                         ───                           0       0       0⎥\n",
       "⎢                           2                                            ⎥\n",
       "⎢                          τ                                             ⎥\n",
       "⎢                                                                        ⎥\n",
       "⎢                         -u                            1                ⎥\n",
       "⎢                         ───                           ─       0       0⎥\n",
       "⎢                           2                           τ                ⎥\n",
       "⎢                          τ                                             ⎥\n",
       "⎢                                                                        ⎥\n",
       "⎢  ⎛   2    2    2      ⎛1   ⎞⎞                                          ⎥\n",
       "⎢τ⋅⎜- u  - v  - w  - 2⋅e⎜─, P⎟⎟                                          ⎥\n",
       "⎢  ⎝                    ⎝τ   ⎠⎠   ⎛ ∂           ⎞│                       ⎥\n",
       "⎢────────────────────────────── - ⎜───(e(ξ₁, P))⎟│   1     ∂ ⎛ ⎛1   ⎞⎞   ⎥\n",
       "⎢              2                  ⎝∂ξ₁          ⎠│ξ₁=─     ──⎜e⎜─, P⎟⎟   ⎥\n",
       "⎢                                                    τ  u  ∂P⎝ ⎝τ   ⎠⎠   ⎥\n",
       "⎢─────────────────────────────────────────────────────  ─  ───────────  0⎥\n",
       "⎢                           3                           τ       τ        ⎥\n",
       "⎢                          τ                                             ⎥\n",
       "⎢                                                                        ⎥\n",
       "⎢                      -e_{aux}                                         1⎥\n",
       "⎢                      ─────────                        0       0       ─⎥\n",
       "⎢                           2                                           τ⎥\n",
       "⎣                          τ                                             ⎦"
      ]
     },
     "execution_count": 3,
     "metadata": {},
     "output_type": "execute_result"
    }
   ],
   "source": [
    "# compute the P matrix from Sutherland and Kennedy (2003)\n",
    "U = Matrix([rho, rho*u, E, rho*e_aux])\n",
    "q = Matrix([tau, u, p, e_aux])\n",
    "P = simplify(Matrix(BlockMatrix(Derivative(U, q, evaluate=True).T)).T)\n",
    "P"
   ]
  },
  {
   "cell_type": "code",
   "execution_count": 4,
   "metadata": {},
   "outputs": [
    {
     "data": {
      "image/png": "[encoded data removed]",
      "text/latex": [
       "$\\displaystyle \\left[\\begin{matrix}- \\frac{u}{\\tau^{2}} & \\frac{1}{\\tau} & 0 & 0\\\\- \\frac{u^{2}}{\\tau^{2}} & \\frac{2 u}{\\tau} & 1 & 0\\\\- \\frac{u \\left(\\tau \\left(u^{2} + v^{2} + w^{2} + 2 e{\\left(\\frac{1}{\\tau},P \\right)}\\right) + 2 \\left. \\frac{\\partial}{\\partial \\xi_{1}} e{\\left(\\xi_{1},P \\right)} \\right|_{\\substack{ \\xi_{1}=\\frac{1}{\\tau} }}\\right)}{2 \\tau^{3}} & \\frac{2 P \\tau + 3 u^{2} + v^{2} + w^{2} + 2 e{\\left(\\frac{1}{\\tau},P \\right)}}{2 \\tau} & \\frac{u \\left(\\tau + \\frac{\\partial}{\\partial P} e{\\left(\\frac{1}{\\tau},P \\right)}\\right)}{\\tau} & 0\\\\- \\frac{e_{aux} u}{\\tau^{2}} & \\frac{e_{aux}}{\\tau} & 0 & \\frac{u}{\\tau}\\end{matrix}\\right]$"
      ],
      "text/plain": [
       "⎡                            -u                                               \n",
       "⎢                            ───                                              \n",
       "⎢                              2                                              \n",
       "⎢                             τ                                               \n",
       "⎢                                                                             \n",
       "⎢                             2                                               \n",
       "⎢                           -u                                               2\n",
       "⎢                           ────                                             ─\n",
       "⎢                             2                                               \n",
       "⎢                            τ                                                \n",
       "⎢                                                                             \n",
       "⎢   ⎛  ⎛ 2    2    2      ⎛1   ⎞⎞     ⎛ ∂           ⎞│    ⎞                   \n",
       "⎢-u⋅⎜τ⋅⎜u  + v  + w  + 2⋅e⎜─, P⎟⎟ + 2⋅⎜───(e(ξ₁, P))⎟│   1⎟              2    \n",
       "⎢   ⎜  ⎝                  ⎝τ   ⎠⎠     ⎝∂ξ₁          ⎠│ξ₁=─⎟   2⋅P⋅τ + 3⋅u  + v\n",
       "⎢   ⎝                                                    τ⎠                   \n",
       "⎢───────────────────────────────────────────────────────────  ────────────────\n",
       "⎢                               3                                            2\n",
       "⎢                            2⋅τ                                              \n",
       "⎢                                                                             \n",
       "⎢                        -e_{aux}⋅u                                        e_{\n",
       "⎢                        ───────────                                       ───\n",
       "⎢                              2                                              \n",
       "⎣                             τ                                               \n",
       "\n",
       "1                                         ⎤\n",
       "─                            0           0⎥\n",
       "τ                                         ⎥\n",
       "                                          ⎥\n",
       "                                          ⎥\n",
       "                                          ⎥\n",
       "⋅u                                        ⎥\n",
       "──                           1           0⎥\n",
       "τ                                         ⎥\n",
       "                                          ⎥\n",
       "                                          ⎥\n",
       "                                          ⎥\n",
       "2    2      ⎛1   ⎞    ⎛    ∂ ⎛ ⎛1   ⎞⎞⎞   ⎥\n",
       "  + w  + 2⋅e⎜─, P⎟  u⋅⎜τ + ──⎜e⎜─, P⎟⎟⎟   ⎥\n",
       "            ⎝τ   ⎠    ⎝    ∂P⎝ ⎝τ   ⎠⎠⎠   ⎥\n",
       "──────────────────  ───────────────────  0⎥\n",
       "⋅τ                           τ            ⎥\n",
       "                                          ⎥\n",
       "                                          ⎥\n",
       "aux}                                     u⎥\n",
       "────                         0           ─⎥\n",
       "τ                                        τ⎥\n",
       "                                          ⎦"
      ]
     },
     "execution_count": 4,
     "metadata": {},
     "output_type": "execute_result"
    }
   ],
   "source": [
    "# compute the Q_n matrix\n",
    "F_n = Matrix([rho*u,  # flux vector in normal direction\n",
    "            rho*u**2 + p,\n",
    "            (E + p)*u,\n",
    "            rho*e_aux*u])\n",
    "Q_n = simplify(Matrix(BlockMatrix(Derivative(F_n, q, evaluate=True).T)).T)\n",
    "Q_n"
   ]
  },
  {
   "cell_type": "markdown",
   "metadata": {},
   "source": [
    "### Primitive variables\n",
    "Now we compute the coefficient matrix $A_x$ for the primitive equations ($A = P^{-1} Q$):"
   ]
  },
  {
   "cell_type": "code",
   "execution_count": 5,
   "metadata": {},
   "outputs": [
    {
     "data": {
      "image/png": "[encoded data removed]",
      "text/latex": [
       "$\\displaystyle \\left[\\begin{matrix}u & - \\tau & 0 & 0\\\\0 & u & \\tau & 0\\\\0 & \\frac{c^{2} \\left(P \\tau^{2} - \\left. \\frac{\\partial}{\\partial \\xi_{1}} e{\\left(\\xi_{1},P \\right)} \\right|_{\\substack{ \\xi_{1}=\\frac{1}{\\tau} }}\\right)}{\\tau^{3} \\left(P + \\frac{\\partial}{\\partial \\tau} e{\\left(\\frac{1}{\\tau},P \\right)}\\right)} & u & 0\\\\0 & P \\tau & 0 & u\\end{matrix}\\right]$"
      ],
      "text/plain": [
       "⎡u                 -τ                 0  0⎤\n",
       "⎢                                         ⎥\n",
       "⎢0                 u                  τ  0⎥\n",
       "⎢                                         ⎥\n",
       "⎢    2 ⎛   2   ⎛ ∂           ⎞│    ⎞      ⎥\n",
       "⎢   c ⋅⎜P⋅τ  - ⎜───(e(ξ₁, P))⎟│   1⎟      ⎥\n",
       "⎢      ⎜       ⎝∂ξ₁          ⎠│ξ₁=─⎟      ⎥\n",
       "⎢      ⎝                          τ⎠      ⎥\n",
       "⎢0  ────────────────────────────────  u  0⎥\n",
       "⎢          3 ⎛    ∂ ⎛ ⎛1   ⎞⎞⎞            ⎥\n",
       "⎢         τ ⋅⎜P + ──⎜e⎜─, P⎟⎟⎟            ⎥\n",
       "⎢            ⎝    ∂τ⎝ ⎝τ   ⎠⎠⎠            ⎥\n",
       "⎢                                         ⎥\n",
       "⎣0                P⋅τ                 0  u⎦"
      ]
     },
     "execution_count": 5,
     "metadata": {},
     "output_type": "execute_result"
    }
   ],
   "source": [
    "# compute the A_n matrix from Sutherland and Kennedy (2003)\n",
    "# (this is the primitive variable flux matrix in the normal direction)\n",
    "A_n = simplify(Inverse(P) * Q_n)\n",
    "A_n = A_n.subs(Derivative(e,p), de_dp)\n",
    "\n",
    "# add p dV term (cannot be written in conservation law form)\n",
    "p_dV = Matrix([[0, 0, 0, 0],\n",
    "              [0, 0, 0, 0],\n",
    "              [0, 0, 0, 0],\n",
    "              [0, p*tau, 0, 0]])\n",
    "A_n = A_n + p_dV\n",
    "A_n"
   ]
  },
  {
   "cell_type": "markdown",
   "metadata": {},
   "source": [
    "### Characteristic variables\n",
    "We compute the eigenvalues $\\lambda$ and eigenvectors $S$ of the $A_x$ matrix."
   ]
  },
  {
   "cell_type": "code",
   "execution_count": 6,
   "metadata": {},
   "outputs": [
    {
     "data": {
      "image/png": "[encoded data removed]",
      "text/latex": [
       "$\\displaystyle \\left[\\begin{matrix}1 & - P & 0 & 1\\\\\\frac{c}{\\tau} & 0 & 0 & - \\frac{c}{\\tau}\\\\- \\frac{c^{2}}{\\tau^{2}} & 0 & 0 & - \\frac{c^{2}}{\\tau^{2}}\\\\- P & 0 & - P & - P\\end{matrix}\\right]$"
      ],
      "text/plain": [
       "⎡ 1    -P  0    1  ⎤\n",
       "⎢                  ⎥\n",
       "⎢ c            -c  ⎥\n",
       "⎢ ─    0   0   ─── ⎥\n",
       "⎢ τ             τ  ⎥\n",
       "⎢                  ⎥\n",
       "⎢  2             2 ⎥\n",
       "⎢-c            -c  ⎥\n",
       "⎢────  0   0   ────⎥\n",
       "⎢  2             2 ⎥\n",
       "⎢ τ             τ  ⎥\n",
       "⎢                  ⎥\n",
       "⎣ -P   0   -P   -P ⎦"
      ]
     },
     "execution_count": 6,
     "metadata": {},
     "output_type": "execute_result"
    }
   ],
   "source": [
    "# compute the eigenvector matrix S\n",
    "lambda_list = [eval for (eval, n, es) in A_n.eigenvects()]\n",
    "R_list = [[ev for ev in es] for (v, n, es) in A_n.eigenvects()]\n",
    "R = Matrix([[R_list[1][0].T],\n",
    "               [R_list[0][0].T],\n",
    "               [R_list[0][1].T],\n",
    "               [R_list[2][0].T]]).T\n",
    "R = simplify(R * (-p))\n",
    "R = R.subs(e_aux + p/rho, Symbol('h'))\n",
    "R"
   ]
  },
  {
   "cell_type": "code",
   "execution_count": 7,
   "metadata": {},
   "outputs": [
    {
     "data": {
      "image/png": "[encoded data removed]",
      "text/latex": [
       "$\\displaystyle \\left[\\begin{matrix}- c + u & 0 & 0 & 0\\\\0 & u & 0 & 0\\\\0 & 0 & u & 0\\\\0 & 0 & 0 & c + u\\end{matrix}\\right]$"
      ],
      "text/plain": [
       "⎡-c + u  0  0    0  ⎤\n",
       "⎢                   ⎥\n",
       "⎢  0     u  0    0  ⎥\n",
       "⎢                   ⎥\n",
       "⎢  0     0  u    0  ⎥\n",
       "⎢                   ⎥\n",
       "⎣  0     0  0  c + u⎦"
      ]
     },
     "execution_count": 7,
     "metadata": {},
     "output_type": "execute_result"
    }
   ],
   "source": [
    "# compute eigenvalue matrix \\lambda\n",
    "Lambda = diag(lambda_list[1], lambda_list[0], lambda_list[0], lambda_list[2])\n",
    "Lambda"
   ]
  },
  {
   "cell_type": "code",
   "execution_count": 8,
   "metadata": {},
   "outputs": [
    {
     "data": {
      "image/png": "[encoded data removed]",
      "text/latex": [
       "$\\displaystyle \\left[\\begin{matrix}0 & \\frac{\\tau}{2 c} & - \\frac{\\tau^{2}}{2 c^{2}} & 0\\\\- \\frac{1}{P} & 0 & - \\frac{\\tau^{2}}{P c^{2}} & 0\\\\0 & 0 & \\frac{\\tau^{2}}{c^{2}} & - \\frac{1}{P}\\\\0 & - \\frac{\\tau}{2 c} & - \\frac{\\tau^{2}}{2 c^{2}} & 0\\end{matrix}\\right]$"
      ],
      "text/plain": [
       "⎡            2      ⎤\n",
       "⎢      τ   -τ       ⎥\n",
       "⎢ 0   ───  ────   0 ⎥\n",
       "⎢     2⋅c     2     ⎥\n",
       "⎢          2⋅c      ⎥\n",
       "⎢                   ⎥\n",
       "⎢            2      ⎥\n",
       "⎢-1        -τ       ⎥\n",
       "⎢───   0   ────   0 ⎥\n",
       "⎢ P           2     ⎥\n",
       "⎢          P⋅c      ⎥\n",
       "⎢                   ⎥\n",
       "⎢            2      ⎥\n",
       "⎢           τ    -1 ⎥\n",
       "⎢ 0    0    ──   ───⎥\n",
       "⎢            2    P ⎥\n",
       "⎢           c       ⎥\n",
       "⎢                   ⎥\n",
       "⎢            2      ⎥\n",
       "⎢     -τ   -τ       ⎥\n",
       "⎢ 0   ───  ────   0 ⎥\n",
       "⎢     2⋅c     2     ⎥\n",
       "⎣          2⋅c      ⎦"
      ]
     },
     "execution_count": 8,
     "metadata": {},
     "output_type": "execute_result"
    }
   ],
   "source": [
    "L = R.inv()\n",
    "L"
   ]
  },
  {
   "cell_type": "code",
   "execution_count": 9,
   "metadata": {},
   "outputs": [
    {
     "data": {
      "image/png": "[encoded data removed]",
      "text/latex": [
       "$\\displaystyle \\left[\\begin{matrix}\\frac{\\tau \\left(- \\hat P \\tau + \\hat u c\\right)}{2 c^{2}}\\\\- \\frac{\\hat P \\tau^{2}}{P c^{2}} - \\frac{\\hat \\tau}{P}\\\\\\frac{\\hat P \\tau^{2}}{c^{2}} - \\frac{\\hat e_{aux}}{P}\\\\\\frac{\\tau \\left(- \\hat P \\tau - \\hat u c\\right)}{2 c^{2}}\\end{matrix}\\right]$"
      ],
      "text/plain": [
       "⎡τ⋅(-\\hat P⋅τ + \\hat u⋅c)⎤\n",
       "⎢────────────────────────⎥\n",
       "⎢             2          ⎥\n",
       "⎢          2⋅c           ⎥\n",
       "⎢                        ⎥\n",
       "⎢          2             ⎥\n",
       "⎢  \\hat P⋅τ    \\hat \\tau ⎥\n",
       "⎢- ───────── - ───────── ⎥\n",
       "⎢        2         P     ⎥\n",
       "⎢     P⋅c                ⎥\n",
       "⎢                        ⎥\n",
       "⎢        2               ⎥\n",
       "⎢\\hat P⋅τ    \\hat e_{aux}⎥\n",
       "⎢───────── - ────────────⎥\n",
       "⎢     2           P      ⎥\n",
       "⎢    c                   ⎥\n",
       "⎢                        ⎥\n",
       "⎢τ⋅(-\\hat P⋅τ - \\hat u⋅c)⎥\n",
       "⎢────────────────────────⎥\n",
       "⎢             2          ⎥\n",
       "⎣          2⋅c           ⎦"
      ]
     },
     "execution_count": 9,
     "metadata": {},
     "output_type": "execute_result"
    }
   ],
   "source": [
    "# compute L*q\n",
    "q0 = Symbol(r'\\hat \\tau')\n",
    "q1 = Symbol(r'\\hat u')\n",
    "q2 = Symbol(r'\\hat P')\n",
    "q3 = Symbol(r'\\hat e_{aux}')\n",
    "q = Matrix([q0, q1, q2, q3])\n",
    "qp = simplify(L*q)\n",
    "qp"
   ]
  },
  {
   "cell_type": "code",
   "execution_count": 10,
   "metadata": {},
   "outputs": [
    {
     "name": "stdout",
     "output_type": "stream",
     "text": [
      "x0 = P_hat*tau;\n",
      "x1 = c*u_hat;\n",
      "x2 = std::pow(c, -2);\n",
      "x3 = (1.0/2.0)*tau*x2;\n",
      "x4 = 1.0/P;\n",
      "x5 = P_hat*std::pow(tau, 2)*x2;\n",
      "charVars[0] = x3*(-x0 + x1);\n",
      "charVars[1] = -tau_hat*x4 - x4*x5;\n",
      "charVars[2] = -e_hat*x4 + x5;\n",
      "charVars[3] = x3*(-x0 - x1);\n"
     ]
    }
   ],
   "source": [
    "q0 = Symbol(r'tau_hat')\n",
    "q1 = Symbol(r'u_hat')\n",
    "q2 = Symbol(r'P_hat')\n",
    "q3 = Symbol(r'e_hat')\n",
    "q = Matrix([q0, q1, q2, q3])\n",
    "qp = simplify(L*q)\n",
    "\n",
    "common_exprs_lower, final_expr_lower = cse(qp, list=False)\n",
    "for var, val in common_exprs_lower:\n",
    "    print(cxxcode(val, assign_to=var))\n",
    "print(cxxcode(final_expr_lower, assign_to='charVars'))"
   ]
  },
  {
   "cell_type": "code",
   "execution_count": 11,
   "metadata": {},
   "outputs": [
    {
     "data": {
      "image/png": "[encoded data removed]",
      "text/latex": [
       "$\\displaystyle \\left[\\begin{matrix}- P \\beta_{1} + \\beta_{0} + \\beta_{3}\\\\\\frac{c \\left(\\beta_{0} - \\beta_{3}\\right)}{\\tau}\\\\\\frac{c^{2} \\left(- \\beta_{0} - \\beta_{3}\\right)}{\\tau^{2}}\\\\P \\left(- \\beta_{0} - \\beta_{2} - \\beta_{3}\\right)\\end{matrix}\\right]$"
      ],
      "text/plain": [
       "⎡ -P⋅\\beta₁ + \\beta₀ + \\beta₃ ⎤\n",
       "⎢                             ⎥\n",
       "⎢     c⋅(\\beta₀ - \\beta₃)     ⎥\n",
       "⎢     ───────────────────     ⎥\n",
       "⎢              τ              ⎥\n",
       "⎢                             ⎥\n",
       "⎢     2                       ⎥\n",
       "⎢    c ⋅(-\\beta₀ - \\beta₃)    ⎥\n",
       "⎢    ─────────────────────    ⎥\n",
       "⎢               2             ⎥\n",
       "⎢              τ              ⎥\n",
       "⎢                             ⎥\n",
       "⎣P⋅(-\\beta₀ - \\beta₂ - \\beta₃)⎦"
      ]
     },
     "execution_count": 11,
     "metadata": {},
     "output_type": "execute_result"
    }
   ],
   "source": [
    "r0 = Symbol(r'\\beta_0')\n",
    "r1 = Symbol(r'\\beta_1')\n",
    "r2 = Symbol(r'\\beta_2')\n",
    "r3 = Symbol(r'\\beta_3')\n",
    "r = Matrix([r0, r1, r2, r3])\n",
    "rp = simplify(R*r)\n",
    "rp"
   ]
  },
  {
   "cell_type": "code",
   "execution_count": 12,
   "metadata": {},
   "outputs": [
    {
     "name": "stdout",
     "output_type": "stream",
     "text": [
      "x0 = beta_0 + beta_3;\n",
      "primVars[0] = -P*beta_1 + x0;\n",
      "primVars[1] = c*(beta_0 - beta_3)/tau;\n",
      "primVars[2] = -std::pow(c, 2)*x0/std::pow(tau, 2);\n",
      "primVars[3] = P*(-beta_2 - x0);\n"
     ]
    }
   ],
   "source": [
    "r0 = Symbol(r'beta_0')\n",
    "r1 = Symbol(r'beta_1')\n",
    "r2 = Symbol(r'beta_2')\n",
    "r3 = Symbol(r'beta_3')\n",
    "r = Matrix([r0, r1, r2, r3])\n",
    "rp = simplify(R*r)\n",
    "common_exprs_lower, final_expr_lower = cse(rp, list=False)\n",
    "for var, val in common_exprs_lower:\n",
    "    print(cxxcode(val, assign_to=var))\n",
    "print(cxxcode(final_expr_lower, assign_to='primVars'))"
   ]
  },
  {
   "cell_type": "code",
   "execution_count": 13,
   "metadata": {},
   "outputs": [
    {
     "data": {
      "image/png": "[encoded data removed]",
      "text/latex": [
       "$\\displaystyle \\left[\\begin{matrix}1 & 0 & 0 & 0\\\\0 & 1 & 0 & 0\\\\0 & 0 & 1 & 0\\\\0 & 0 & 0 & 1\\end{matrix}\\right]$"
      ],
      "text/plain": [
       "⎡1  0  0  0⎤\n",
       "⎢          ⎥\n",
       "⎢0  1  0  0⎥\n",
       "⎢          ⎥\n",
       "⎢0  0  1  0⎥\n",
       "⎢          ⎥\n",
       "⎣0  0  0  1⎦"
      ]
     },
     "execution_count": 13,
     "metadata": {},
     "output_type": "execute_result"
    }
   ],
   "source": [
    "simplify(R*L)"
   ]
  },
  {
   "cell_type": "code",
   "execution_count": 14,
   "metadata": {},
   "outputs": [
    {
     "data": {
      "image/png": "[encoded data removed]",
      "text/latex": [
       "$\\displaystyle \\left[\\begin{matrix}\\tau_{hat}\\\\u_{hat}\\\\P_{hat}\\\\e_{hat}\\end{matrix}\\right]$"
      ],
      "text/plain": [
       "⎡τₕₐₜ⎤\n",
       "⎢    ⎥\n",
       "⎢uₕₐₜ⎥\n",
       "⎢    ⎥\n",
       "⎢Pₕₐₜ⎥\n",
       "⎢    ⎥\n",
       "⎣eₕₐₜ⎦"
      ]
     },
     "execution_count": 14,
     "metadata": {},
     "output_type": "execute_result"
    }
   ],
   "source": [
    "simplify(R*qp)"
   ]
  },
  {
   "cell_type": "code",
   "execution_count": null,
   "metadata": {},
   "outputs": [],
   "source": []
  }
 ],
 "metadata": {
  "kernelspec": {
   "display_name": "Python 3",
   "language": "python",
   "name": "python3"
  },
  "language_info": {
   "codemirror_mode": {
    "name": "ipython",
    "version": 3
   },
   "file_extension": ".py",
   "mimetype": "text/x-python",
   "name": "python",
   "nbconvert_exporter": "python",
   "pygments_lexer": "ipython3",
   "version": "3.11.7"
  },
  "orig_nbformat": 4
 },
 "nbformat": 4,
 "nbformat_minor": 2
}
