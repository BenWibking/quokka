{
 "cells": [
  {
   "cell_type": "markdown",
   "metadata": {},
   "source": [
    "## Characteristic Reconstruction"
   ]
  },
  {
   "cell_type": "code",
   "execution_count": 2,
   "metadata": {},
   "outputs": [],
   "source": [
    "from sympy import *\n",
    "init_printing(use_unicode=True)"
   ]
  },
  {
   "cell_type": "markdown",
   "metadata": {},
   "source": [
    "### Conserved variables\n",
    "We start with the Euler equations in conservation-law form, with the vector of conserved variables $U$ and primitive variables $q$. Then we compute the $P$ matrix ($P_{ij} = \\partial U_i / \\partial q_j$) and the $Q_x$ matrix ($Q_{k,ij} = \\partial F_{k,i} / \\partial q_j$, where $F_k$ is the flux vector in the $k$ direction) (Sutherland and Kennedy, 2002). ($F$ denotes the fluxes of the conserved variables.)"
   ]
  },
  {
   "cell_type": "code",
   "execution_count": 3,
   "metadata": {},
   "outputs": [
    {
     "data": {
      "image/png": "[encoded data removed]",
      "text/latex": [
       "$\\displaystyle \\frac{P - c^{2} \\rho^{2} \\frac{\\partial}{\\partial P} e{\\left(\\rho,P \\right)}}{\\rho^{2}}$"
      ],
      "text/plain": [
       "     2  2 ∂          \n",
       "P - c ⋅ρ ⋅──(e(ρ, P))\n",
       "          ∂P         \n",
       "─────────────────────\n",
       "           2         \n",
       "          ρ          "
      ]
     },
     "execution_count": 3,
     "metadata": {},
     "output_type": "execute_result"
    }
   ],
   "source": [
    "# define symbols\n",
    "rho = Symbol('rho', positive=True) # density\n",
    "p = Symbol('P', positive=True) # pressure\n",
    "u = Symbol('u') # normal velocity\n",
    "v = Symbol('v') # transverse velocity\n",
    "w = Symbol('w') # transverse velocity\n",
    "s = Symbol('s') # passive scalar\n",
    "c = Symbol('c') # sound speed\n",
    "e = Function('e')(rho, p) # specific internal energy\n",
    "\n",
    "E = rho*e + rho*(u**2 + v**2 + w**2)/2 # total energy density\n",
    "\n",
    "# (this is needed to rewrite the thermodynamic derivatives in terms of the sound speed)\n",
    "de_drho = solveset(Eq(c**2, (p - rho**2 * Derivative(e, rho)) / (rho**2 * Derivative(e,p))), Derivative(e, rho)).args[0]\n",
    "de_drho"
   ]
  },
  {
   "cell_type": "code",
   "execution_count": 4,
   "metadata": {},
   "outputs": [
    {
     "data": {
      "image/png": "[encoded data removed]",
      "text/latex": [
       "$\\displaystyle \\left[\\begin{matrix}1 & 0 & 0 & 0 & 0 & 0\\\\u & \\rho & 0 & 0 & 0 & 0\\\\v & 0 & \\rho & 0 & 0 & 0\\\\w & 0 & 0 & \\rho & 0 & 0\\\\\\rho \\frac{\\partial}{\\partial \\rho} e{\\left(\\rho,P \\right)} + \\frac{u^{2}}{2} + \\frac{v^{2}}{2} + \\frac{w^{2}}{2} + e{\\left(\\rho,P \\right)} & \\rho u & \\rho v & \\rho w & \\rho \\frac{\\partial}{\\partial P} e{\\left(\\rho,P \\right)} & 0\\\\s & 0 & 0 & 0 & 0 & \\rho\\end{matrix}\\right]$"
      ],
      "text/plain": [
       "⎡                  1                      0    0    0         0        0⎤\n",
       "⎢                                                                       ⎥\n",
       "⎢                  u                      ρ    0    0         0        0⎥\n",
       "⎢                                                                       ⎥\n",
       "⎢                  v                      0    ρ    0         0        0⎥\n",
       "⎢                                                                       ⎥\n",
       "⎢                  w                      0    0    ρ         0        0⎥\n",
       "⎢                                                                       ⎥\n",
       "⎢                 2    2    2                                           ⎥\n",
       "⎢  ∂             u    v    w                              ∂             ⎥\n",
       "⎢ρ⋅──(e(ρ, P)) + ── + ── + ── + e(ρ, P)  ρ⋅u  ρ⋅v  ρ⋅w  ρ⋅──(e(ρ, P))  0⎥\n",
       "⎢  ∂ρ            2    2    2                              ∂P            ⎥\n",
       "⎢                                                                       ⎥\n",
       "⎣                  s                      0    0    0         0        ρ⎦"
      ]
     },
     "execution_count": 4,
     "metadata": {},
     "output_type": "execute_result"
    }
   ],
   "source": [
    "# compute the P matrix from Sutherland and Kennedy (2003)\n",
    "U = Matrix([rho, rho*u, rho*v, rho*w, E, rho*s])\n",
    "q = Matrix([rho, u, v, w, p, s])\n",
    "P = simplify(Matrix(BlockMatrix(Derivative(U, q, evaluate=True).T)).T)\n",
    "P"
   ]
  },
  {
   "cell_type": "code",
   "execution_count": 5,
   "metadata": {},
   "outputs": [],
   "source": [
    "# compute the Q_n matrix\n",
    "F_n = Matrix([rho*u,  # flux vector in normal direction\n",
    "            rho*u**2 + p,\n",
    "            rho*v*u,\n",
    "            rho*w*u,\n",
    "            (E + p)*u,\n",
    "            rho*s*u])\n",
    "Q_n = simplify(Matrix(BlockMatrix(Derivative(F_n, q, evaluate=True).T)).T)"
   ]
  },
  {
   "cell_type": "markdown",
   "metadata": {},
   "source": [
    "### Primitive variables\n",
    "Now we compute the coefficient matrix $A_x$ for the primitive equations ($A = P^{-1} Q$):"
   ]
  },
  {
   "cell_type": "code",
   "execution_count": 6,
   "metadata": {},
   "outputs": [
    {
     "data": {
      "image/png": "[encoded data removed]",
      "text/latex": [
       "$\\displaystyle \\left[\\begin{matrix}u & \\rho & 0 & 0 & 0 & 0\\\\0 & u & 0 & 0 & \\frac{1}{\\rho} & 0\\\\0 & 0 & u & 0 & 0 & 0\\\\0 & 0 & 0 & u & 0 & 0\\\\0 & c^{2} \\rho & 0 & 0 & u & 0\\\\0 & 0 & 0 & 0 & 0 & u\\end{matrix}\\right]$"
      ],
      "text/plain": [
       "⎡u   ρ    0  0  0  0⎤\n",
       "⎢                   ⎥\n",
       "⎢               1   ⎥\n",
       "⎢0   u    0  0  ─  0⎥\n",
       "⎢               ρ   ⎥\n",
       "⎢                   ⎥\n",
       "⎢0   0    u  0  0  0⎥\n",
       "⎢                   ⎥\n",
       "⎢0   0    0  u  0  0⎥\n",
       "⎢                   ⎥\n",
       "⎢    2              ⎥\n",
       "⎢0  c ⋅ρ  0  0  u  0⎥\n",
       "⎢                   ⎥\n",
       "⎣0   0    0  0  0  u⎦"
      ]
     },
     "execution_count": 6,
     "metadata": {},
     "output_type": "execute_result"
    }
   ],
   "source": [
    "# compute the A_n matrix from Sutherland and Kennedy (2003)\n",
    "# (this is the primitive variable flux matrix in the normal direction)\n",
    "A_n = simplify(Inverse(P) * Q_n).subs(Derivative(e,rho), de_drho)\n",
    "A_n"
   ]
  },
  {
   "cell_type": "markdown",
   "metadata": {},
   "source": [
    "### Characteristic variables\n",
    "We compute the eigenvalues $\\lambda$ and eigenvectors $S$ of the $A_x$ matrix.\n",
    "\n",
    "Then we compute the vector $\\mathcal{L} = \\lambda S^{-1} \\frac{dq}{dx}$."
   ]
  },
  {
   "cell_type": "code",
   "execution_count": 7,
   "metadata": {},
   "outputs": [
    {
     "data": {
      "image/png": "[encoded data removed]",
      "text/latex": [
       "$\\displaystyle \\left[\\begin{matrix}0 & - c \\rho & 0 & 0 & 1 & 0\\\\- c^{2} & 0 & 0 & 0 & 1 & 0\\\\0 & 0 & 1 & 0 & 0 & 0\\\\0 & 0 & 0 & 1 & 0 & 0\\\\0 & c \\rho & 0 & 0 & 1 & 0\\\\0 & 0 & 0 & 0 & 0 & 1\\end{matrix}\\right]$"
      ],
      "text/plain": [
       "⎡ 0   -c⋅ρ  0  0  1  0⎤\n",
       "⎢                     ⎥\n",
       "⎢  2                  ⎥\n",
       "⎢-c    0    0  0  1  0⎥\n",
       "⎢                     ⎥\n",
       "⎢ 0    0    1  0  0  0⎥\n",
       "⎢                     ⎥\n",
       "⎢ 0    0    0  1  0  0⎥\n",
       "⎢                     ⎥\n",
       "⎢ 0   c⋅ρ   0  0  1  0⎥\n",
       "⎢                     ⎥\n",
       "⎣ 0    0    0  0  0  1⎦"
      ]
     },
     "execution_count": 7,
     "metadata": {},
     "output_type": "execute_result"
    }
   ],
   "source": [
    "# compute the eigenvector matrix S\n",
    "c = Symbol('c')\n",
    "rho = Symbol('rho')\n",
    "lambda_list = [eval for (eval, n, es) in A_n.left_eigenvects()]\n",
    "Sinv_list = [[ev for ev in es] for (v, n, es) in A_n.left_eigenvects()]\n",
    "Sinv = Matrix([Sinv_list[1][0],  Sinv_list[0][2], Sinv_list[0][0], Sinv_list[0][1], Sinv_list[2][0], Sinv_list[0][3]])\n",
    "Sinv"
   ]
  },
  {
   "cell_type": "code",
   "execution_count": 8,
   "metadata": {},
   "outputs": [
    {
     "data": {
      "image/png": "[encoded data removed]",
      "text/latex": [
       "$\\displaystyle \\left[\\begin{matrix}- c + u & 0 & 0 & 0 & 0 & 0\\\\0 & u & 0 & 0 & 0 & 0\\\\0 & 0 & u & 0 & 0 & 0\\\\0 & 0 & 0 & u & 0 & 0\\\\0 & 0 & 0 & 0 & c + u & 0\\\\0 & 0 & 0 & 0 & 0 & u\\end{matrix}\\right]$"
      ],
      "text/plain": [
       "⎡-c + u  0  0  0    0    0⎤\n",
       "⎢                         ⎥\n",
       "⎢  0     u  0  0    0    0⎥\n",
       "⎢                         ⎥\n",
       "⎢  0     0  u  0    0    0⎥\n",
       "⎢                         ⎥\n",
       "⎢  0     0  0  u    0    0⎥\n",
       "⎢                         ⎥\n",
       "⎢  0     0  0  0  c + u  0⎥\n",
       "⎢                         ⎥\n",
       "⎣  0     0  0  0    0    u⎦"
      ]
     },
     "execution_count": 8,
     "metadata": {},
     "output_type": "execute_result"
    }
   ],
   "source": [
    "# compute eigenvalue matrix \\lambda\n",
    "lambda_waves = diag(lambda_list[1], lambda_list[0], lambda_list[0], lambda_list[0], lambda_list[2], lambda_list[0])\n",
    "lambda_waves"
   ]
  },
  {
   "cell_type": "code",
   "execution_count": 39,
   "metadata": {},
   "outputs": [
    {
     "data": {
      "image/png": "[encoded data removed]",
      "text/latex": [
       "$\\displaystyle \\left[\\begin{matrix}\\frac{q_{0} - 2 q_{1} + q_{4}}{2 c^{2}}\\\\\\frac{- q_{0} + q_{4}}{2 c \\rho}\\\\q_{2}\\\\q_{3}\\\\\\frac{q_{0}}{2} + \\frac{q_{4}}{2}\\\\q_{5}\\end{matrix}\\right]$"
      ],
      "text/plain": [
       "⎡q₀ - 2⋅q₁ + q₄⎤\n",
       "⎢──────────────⎥\n",
       "⎢        2     ⎥\n",
       "⎢     2⋅c      ⎥\n",
       "⎢              ⎥\n",
       "⎢   -q₀ + q₄   ⎥\n",
       "⎢   ────────   ⎥\n",
       "⎢    2⋅c⋅ρ     ⎥\n",
       "⎢              ⎥\n",
       "⎢      q₂      ⎥\n",
       "⎢              ⎥\n",
       "⎢      q₃      ⎥\n",
       "⎢              ⎥\n",
       "⎢   q₀   q₄    ⎥\n",
       "⎢   ── + ──    ⎥\n",
       "⎢   2    2     ⎥\n",
       "⎢              ⎥\n",
       "⎣      q₅      ⎦"
      ]
     },
     "execution_count": 39,
     "metadata": {},
     "output_type": "execute_result"
    }
   ],
   "source": [
    "# compute S*qhat\n",
    "S = Sinv.inv()\n",
    "q0 = Symbol('q0')\n",
    "q1 = Symbol('q1')\n",
    "q2 = Symbol('q2')\n",
    "q3 = Symbol('q3')\n",
    "q4 = Symbol('q4')\n",
    "q5 = Symbol('q5')\n",
    "qhat = Matrix([q0, q1, q2, q3, q4, q5])\n",
    "qp = simplify(S*qhat)\n",
    "qp"
   ]
  },
  {
   "cell_type": "code",
   "execution_count": 37,
   "metadata": {},
   "outputs": [
    {
     "name": "stdout",
     "output_type": "stream",
     "text": [
      "charVars[0] = (1.0/2.0)*(q0 - 2*q1 + q4)/std::pow(c, 2);\n",
      "charVars[1] = (1.0/2.0)*(-q0 + q4)/(c*rho);\n",
      "charVars[2] = q2;\n",
      "charVars[3] = q3;\n",
      "charVars[4] = (1.0/2.0)*q0 + (1.0/2.0)*q4;\n",
      "charVars[5] = q5;\n"
     ]
    }
   ],
   "source": [
    "common_exprs_lower, final_expr_lower = cse(qp, list=False)\n",
    "for var, val in common_exprs_lower:\n",
    "    print(cxxcode(val, assign_to=var))\n",
    "print(cxxcode(final_expr_lower, assign_to='charVars'))"
   ]
  },
  {
   "cell_type": "code",
   "execution_count": 41,
   "metadata": {},
   "outputs": [
    {
     "data": {
      "image/png": "[encoded data removed]",
      "text/latex": [
       "$\\displaystyle \\left[\\begin{matrix}- c r_{1} \\rho + r_{4}\\\\- c^{2} r_{0} + r_{4}\\\\r_{2}\\\\r_{3}\\\\c r_{1} \\rho + r_{4}\\\\r_{5}\\end{matrix}\\right]$"
      ],
      "text/plain": [
       "⎡-c⋅r₁⋅ρ + r₄⎤\n",
       "⎢            ⎥\n",
       "⎢   2        ⎥\n",
       "⎢- c ⋅r₀ + r₄⎥\n",
       "⎢            ⎥\n",
       "⎢     r₂     ⎥\n",
       "⎢            ⎥\n",
       "⎢     r₃     ⎥\n",
       "⎢            ⎥\n",
       "⎢c⋅r₁⋅ρ + r₄ ⎥\n",
       "⎢            ⎥\n",
       "⎣     r₅     ⎦"
      ]
     },
     "execution_count": 41,
     "metadata": {},
     "output_type": "execute_result"
    }
   ],
   "source": [
    "r0 = Symbol('r0')\n",
    "r1 = Symbol('r1')\n",
    "r2 = Symbol('r2')\n",
    "r3 = Symbol('r3')\n",
    "r4 = Symbol('r4')\n",
    "r5 = Symbol('r5')\n",
    "rhat = Matrix([r0, r1, r2, r3, r4, r5])\n",
    "rp = simplify(Sinv*rhat)\n",
    "rp"
   ]
  },
  {
   "cell_type": "code",
   "execution_count": 42,
   "metadata": {},
   "outputs": [
    {
     "name": "stdout",
     "output_type": "stream",
     "text": [
      "x0 = -r4;\n",
      "x1 = c*r1*rho;\n",
      "primVars[0] = -x0 - x1;\n",
      "primVars[1] = -std::pow(c, 2)*r0 - x0;\n",
      "primVars[2] = r2;\n",
      "primVars[3] = r3;\n",
      "primVars[4] = r4 + x1;\n",
      "primVars[5] = r5;\n"
     ]
    }
   ],
   "source": [
    "common_exprs_lower, final_expr_lower = cse(rp, list=False)\n",
    "for var, val in common_exprs_lower:\n",
    "    print(cxxcode(val, assign_to=var))\n",
    "print(cxxcode(final_expr_lower, assign_to='primVars'))"
   ]
  },
  {
   "cell_type": "code",
   "execution_count": null,
   "metadata": {},
   "outputs": [],
   "source": []
  }
 ],
 "metadata": {
  "kernelspec": {
   "display_name": "Python 3",
   "language": "python",
   "name": "python3"
  },
  "language_info": {
   "codemirror_mode": {
    "name": "ipython",
    "version": 3
   },
   "file_extension": ".py",
   "mimetype": "text/x-python",
   "name": "python",
   "nbconvert_exporter": "python",
   "pygments_lexer": "ipython3",
   "version": "3.11.7"
  },
  "orig_nbformat": 4
 },
 "nbformat": 4,
 "nbformat_minor": 2
}
