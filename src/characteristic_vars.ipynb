{
 "cells": [
  {
   "cell_type": "markdown",
   "metadata": {},
   "source": [
    "## Characteristic Reconstruction"
   ]
  },
  {
   "cell_type": "code",
   "execution_count": 1,
   "metadata": {},
   "outputs": [],
   "source": [
    "from sympy import *\n",
    "init_printing(use_unicode=True)"
   ]
  },
  {
   "cell_type": "markdown",
   "metadata": {},
   "source": [
    "### Conserved variables\n",
    "We start with the Euler equations in conservation-law form, with the vector of conserved variables $U$ and primitive variables $q$. Then we compute the $P$ matrix ($P_{ij} = \\partial U_i / \\partial q_j$) and the $Q_x$ matrix ($Q_{k,ij} = \\partial F_{k,i} / \\partial q_j$, where $F_k$ is the flux vector in the $k$ direction) (Sutherland and Kennedy, 2002). ($F$ denotes the fluxes of the conserved variables.)\n",
    "\n",
    "*See also:* Zingale and Katz (2015)."
   ]
  },
  {
   "cell_type": "code",
   "execution_count": 2,
   "metadata": {},
   "outputs": [
    {
     "data": {
      "image/png": "[encoded data removed]",
      "text/latex": [
       "$\\displaystyle \\frac{P - c^{2} \\rho^{2} \\frac{\\partial}{\\partial P} e{\\left(\\rho,P \\right)}}{\\rho^{2}}$"
      ],
      "text/plain": [
       "     2  2 ∂          \n",
       "P - c ⋅ρ ⋅──(e(ρ, P))\n",
       "          ∂P         \n",
       "─────────────────────\n",
       "           2         \n",
       "          ρ          "
      ]
     },
     "execution_count": 2,
     "metadata": {},
     "output_type": "execute_result"
    }
   ],
   "source": [
    "# define symbols\n",
    "rho = Symbol('rho', positive=True) # density\n",
    "p = Symbol('P', positive=True) # pressure\n",
    "u = Symbol('u') # normal velocity\n",
    "v = Symbol('v') # transverse velocity\n",
    "w = Symbol('w') # transverse velocity\n",
    "s = Symbol('s') # passive scalar\n",
    "c = Symbol('c') # sound speed\n",
    "e = Function('e')(rho, p) # specific internal energy\n",
    "\n",
    "E = rho*e + rho*(u**2 + v**2 + w**2)/2 # total energy density\n",
    "\n",
    "# (this is needed to rewrite the thermodynamic derivatives in terms of the sound speed)\n",
    "de_drho = solveset(Eq(c**2, (p - rho**2 * Derivative(e, rho)) / (rho**2 * Derivative(e,p))), Derivative(e, rho)).args[0]\n",
    "de_drho"
   ]
  },
  {
   "cell_type": "code",
   "execution_count": 3,
   "metadata": {},
   "outputs": [
    {
     "data": {
      "image/png": "[encoded data removed]",
      "text/latex": [
       "$\\displaystyle \\left[\\begin{matrix}1 & 0 & 0 & 0\\\\u & \\rho & 0 & 0\\\\\\rho \\frac{\\partial}{\\partial \\rho} e{\\left(\\rho,P \\right)} + \\frac{u^{2}}{2} + \\frac{v^{2}}{2} + \\frac{w^{2}}{2} + e{\\left(\\rho,P \\right)} & \\rho u & \\rho \\frac{\\partial}{\\partial P} e{\\left(\\rho,P \\right)} & 0\\\\s & 0 & 0 & \\rho\\end{matrix}\\right]$"
      ],
      "text/plain": [
       "⎡                  1                      0         0        0⎤\n",
       "⎢                                                             ⎥\n",
       "⎢                  u                      ρ         0        0⎥\n",
       "⎢                                                             ⎥\n",
       "⎢                 2    2    2                                 ⎥\n",
       "⎢  ∂             u    v    w                    ∂             ⎥\n",
       "⎢ρ⋅──(e(ρ, P)) + ── + ── + ── + e(ρ, P)  ρ⋅u  ρ⋅──(e(ρ, P))  0⎥\n",
       "⎢  ∂ρ            2    2    2                    ∂P            ⎥\n",
       "⎢                                                             ⎥\n",
       "⎣                  s                      0         0        ρ⎦"
      ]
     },
     "execution_count": 3,
     "metadata": {},
     "output_type": "execute_result"
    }
   ],
   "source": [
    "# compute the P matrix from Sutherland and Kennedy (2003)\n",
    "U = Matrix([rho, rho*u, E, rho*s])\n",
    "q = Matrix([rho, u, p, s])\n",
    "P = simplify(Matrix(BlockMatrix(Derivative(U, q, evaluate=True).T)).T)\n",
    "P"
   ]
  },
  {
   "cell_type": "code",
   "execution_count": 4,
   "metadata": {},
   "outputs": [],
   "source": [
    "# compute the Q_n matrix\n",
    "F_n = Matrix([rho*u,  # flux vector in normal direction\n",
    "            rho*u**2 + p,\n",
    "            (E + p)*u,\n",
    "            rho*u*s])\n",
    "Q_n = simplify(Matrix(BlockMatrix(Derivative(F_n, q, evaluate=True).T)).T)"
   ]
  },
  {
   "cell_type": "markdown",
   "metadata": {},
   "source": [
    "### Primitive variables\n",
    "Now we compute the coefficient matrix $A_x$ for the primitive equations ($A = P^{-1} Q$):"
   ]
  },
  {
   "cell_type": "code",
   "execution_count": 5,
   "metadata": {},
   "outputs": [
    {
     "data": {
      "image/png": "[encoded data removed]",
      "text/latex": [
       "$\\displaystyle \\left[\\begin{matrix}u & \\rho & 0 & 0\\\\0 & u & \\frac{1}{\\rho} & 0\\\\0 & c^{2} \\rho & u & 0\\\\0 & 0 & 0 & u\\end{matrix}\\right]$"
      ],
      "text/plain": [
       "⎡u   ρ    0  0⎤\n",
       "⎢             ⎥\n",
       "⎢         1   ⎥\n",
       "⎢0   u    ─  0⎥\n",
       "⎢         ρ   ⎥\n",
       "⎢             ⎥\n",
       "⎢    2        ⎥\n",
       "⎢0  c ⋅ρ  u  0⎥\n",
       "⎢             ⎥\n",
       "⎣0   0    0  u⎦"
      ]
     },
     "execution_count": 5,
     "metadata": {},
     "output_type": "execute_result"
    }
   ],
   "source": [
    "# compute the A_n matrix from Sutherland and Kennedy (2003)\n",
    "# (this is the primitive variable flux matrix in the normal direction)\n",
    "A_n = simplify(Inverse(P) * Q_n).subs(Derivative(e,rho), de_drho)\n",
    "A_n"
   ]
  },
  {
   "cell_type": "markdown",
   "metadata": {},
   "source": [
    "### Characteristic variables\n",
    "We compute the eigenvalues $\\lambda$ and eigenvectors $S$ of the $A_x$ matrix."
   ]
  },
  {
   "cell_type": "code",
   "execution_count": 6,
   "metadata": {},
   "outputs": [
    {
     "data": {
      "image/png": "[encoded data removed]",
      "text/latex": [
       "$\\displaystyle \\left[\\begin{matrix}\\frac{1}{c^{2}} & 1 & 0 & \\frac{1}{c^{2}}\\\\- \\frac{1}{c \\rho} & 0 & 0 & \\frac{1}{c \\rho}\\\\1 & 0 & 0 & 1\\\\0 & 0 & 1 & 0\\end{matrix}\\right]$"
      ],
      "text/plain": [
       "⎡1          1  ⎤\n",
       "⎢──   1  0  ── ⎥\n",
       "⎢ 2          2 ⎥\n",
       "⎢c          c  ⎥\n",
       "⎢              ⎥\n",
       "⎢-1          1 ⎥\n",
       "⎢───  0  0  ───⎥\n",
       "⎢c⋅ρ        c⋅ρ⎥\n",
       "⎢              ⎥\n",
       "⎢ 1   0  0   1 ⎥\n",
       "⎢              ⎥\n",
       "⎣ 0   0  1   0 ⎦"
      ]
     },
     "execution_count": 6,
     "metadata": {},
     "output_type": "execute_result"
    }
   ],
   "source": [
    "# compute the eigenvector matrix S\n",
    "c = Symbol('c')\n",
    "rho = Symbol('rho')\n",
    "lambda_list = [eval for (eval, n, es) in A_n.eigenvects()]\n",
    "R_list = [[ev for ev in es] for (v, n, es) in A_n.eigenvects()]\n",
    "R = Matrix([[R_list[1][0].T],\n",
    "               [R_list[0][0].T],\n",
    "               [R_list[0][1].T],\n",
    "               [R_list[2][0].T]]).T\n",
    "R"
   ]
  },
  {
   "cell_type": "code",
   "execution_count": 7,
   "metadata": {},
   "outputs": [
    {
     "data": {
      "image/png": "[encoded data removed]",
      "text/latex": [
       "$\\displaystyle \\left[\\begin{matrix}- c + u & 0 & 0 & 0\\\\0 & u & 0 & 0\\\\0 & 0 & u & 0\\\\0 & 0 & 0 & c + u\\end{matrix}\\right]$"
      ],
      "text/plain": [
       "⎡-c + u  0  0    0  ⎤\n",
       "⎢                   ⎥\n",
       "⎢  0     u  0    0  ⎥\n",
       "⎢                   ⎥\n",
       "⎢  0     0  u    0  ⎥\n",
       "⎢                   ⎥\n",
       "⎣  0     0  0  c + u⎦"
      ]
     },
     "execution_count": 7,
     "metadata": {},
     "output_type": "execute_result"
    }
   ],
   "source": [
    "# compute eigenvalue matrix \\lambda\n",
    "Lambda = diag(lambda_list[1], lambda_list[0], lambda_list[0], lambda_list[2])\n",
    "Lambda"
   ]
  },
  {
   "cell_type": "code",
   "execution_count": 8,
   "metadata": {},
   "outputs": [
    {
     "data": {
      "image/png": "[encoded data removed]",
      "text/latex": [
       "$\\displaystyle \\left[\\begin{matrix}0 & - \\frac{c \\rho}{2} & \\frac{1}{2} & 0\\\\1 & 0 & - \\frac{1}{c^{2}} & 0\\\\0 & 0 & 0 & 1\\\\0 & \\frac{c \\rho}{2} & \\frac{1}{2} & 0\\end{matrix}\\right]$"
      ],
      "text/plain": [
       "⎡   -c⋅ρ         ⎤\n",
       "⎢0  ─────  1/2  0⎥\n",
       "⎢     2          ⎥\n",
       "⎢                ⎥\n",
       "⎢          -1    ⎥\n",
       "⎢1    0    ───  0⎥\n",
       "⎢            2   ⎥\n",
       "⎢           c    ⎥\n",
       "⎢                ⎥\n",
       "⎢0    0     0   1⎥\n",
       "⎢                ⎥\n",
       "⎢    c⋅ρ         ⎥\n",
       "⎢0   ───   1/2  0⎥\n",
       "⎣     2          ⎦"
      ]
     },
     "execution_count": 8,
     "metadata": {},
     "output_type": "execute_result"
    }
   ],
   "source": [
    "L = R.inv()\n",
    "L"
   ]
  },
  {
   "cell_type": "code",
   "execution_count": 9,
   "metadata": {},
   "outputs": [
    {
     "data": {
      "image/png": "[encoded data removed]",
      "text/latex": [
       "$\\displaystyle \\left[\\begin{matrix}\\frac{\\hat P}{2} - \\frac{\\hat u c \\rho}{2}\\\\- \\frac{\\hat P}{c^{2}} + \\hat \\rho\\\\\\hat s\\\\\\frac{\\hat P}{2} + \\frac{\\hat u c \\rho}{2}\\end{matrix}\\right]$"
      ],
      "text/plain": [
       "⎡\\hat P   \\hat u⋅c⋅ρ ⎤\n",
       "⎢────── - ────────── ⎥\n",
       "⎢  2          2      ⎥\n",
       "⎢                    ⎥\n",
       "⎢  \\hat P            ⎥\n",
       "⎢- ────── + \\hat \\rho⎥\n",
       "⎢     2              ⎥\n",
       "⎢    c               ⎥\n",
       "⎢                    ⎥\n",
       "⎢       \\hat s       ⎥\n",
       "⎢                    ⎥\n",
       "⎢\\hat P   \\hat u⋅c⋅ρ ⎥\n",
       "⎢────── + ────────── ⎥\n",
       "⎣  2          2      ⎦"
      ]
     },
     "execution_count": 9,
     "metadata": {},
     "output_type": "execute_result"
    }
   ],
   "source": [
    "# compute L*q\n",
    "q0 = Symbol(r'\\hat \\rho')\n",
    "q1 = Symbol(r'\\hat u')\n",
    "q2 = Symbol(r'\\hat P')\n",
    "q3 = Symbol(r'\\hat s')\n",
    "q = Matrix([q0, q1, q2, q3])\n",
    "qp = simplify(L*q)\n",
    "qp"
   ]
  },
  {
   "cell_type": "code",
   "execution_count": 10,
   "metadata": {},
   "outputs": [
    {
     "name": "stdout",
     "output_type": "stream",
     "text": [
      "x0 = (1.0/2.0)*P_hat;\n",
      "x1 = (1.0/2.0)*c*rho*u_hat;\n",
      "charVars[0] = x0 - x1;\n",
      "charVars[1] = -P_hat/std::pow(c, 2) + rho_hat;\n",
      "charVars[2] = s_hat;\n",
      "charVars[3] = x0 + x1;\n"
     ]
    }
   ],
   "source": [
    "q0 = Symbol(r'rho_hat')\n",
    "q1 = Symbol(r'u_hat')\n",
    "q2 = Symbol(r'P_hat')\n",
    "q3 = Symbol(r's_hat')\n",
    "q = Matrix([q0, q1, q2, q3])\n",
    "qp = simplify(L*q)\n",
    "\n",
    "common_exprs_lower, final_expr_lower = cse(qp, list=False)\n",
    "for var, val in common_exprs_lower:\n",
    "    print(cxxcode(val, assign_to=var))\n",
    "print(cxxcode(final_expr_lower, assign_to='charVars'))"
   ]
  },
  {
   "cell_type": "code",
   "execution_count": 11,
   "metadata": {},
   "outputs": [
    {
     "data": {
      "image/png": "[encoded data removed]",
      "text/latex": [
       "$\\displaystyle \\left[\\begin{matrix}\\frac{\\beta_{0} + \\beta_{1} c^{2} + \\beta_{3}}{c^{2}}\\\\\\frac{- \\beta_{0} + \\beta_{3}}{c \\rho}\\\\\\beta_{0} + \\beta_{3}\\\\\\beta_{2}\\end{matrix}\\right]$"
      ],
      "text/plain": [
       "⎡                 2         ⎤\n",
       "⎢\\beta₀ + \\beta₁⋅c  + \\beta₃⎥\n",
       "⎢───────────────────────────⎥\n",
       "⎢              2            ⎥\n",
       "⎢             c             ⎥\n",
       "⎢                           ⎥\n",
       "⎢     -\\beta₀ + \\beta₃      ⎥\n",
       "⎢     ────────────────      ⎥\n",
       "⎢           c⋅ρ             ⎥\n",
       "⎢                           ⎥\n",
       "⎢      \\beta₀ + \\beta₃      ⎥\n",
       "⎢                           ⎥\n",
       "⎣          \\beta₂           ⎦"
      ]
     },
     "execution_count": 11,
     "metadata": {},
     "output_type": "execute_result"
    }
   ],
   "source": [
    "r0 = Symbol(r'\\beta_0')\n",
    "r1 = Symbol(r'\\beta_1')\n",
    "r2 = Symbol(r'\\beta_2')\n",
    "r3 = Symbol(r'\\beta_3')\n",
    "r = Matrix([r0, r1, r2, r3])\n",
    "rp = simplify(R*r)\n",
    "rp"
   ]
  },
  {
   "cell_type": "code",
   "execution_count": 12,
   "metadata": {},
   "outputs": [
    {
     "name": "stdout",
     "output_type": "stream",
     "text": [
      "x0 = std::pow(c, 2);\n",
      "x1 = beta_0 + beta_3;\n",
      "primVars[0] = (beta_1*x0 + x1)/x0;\n",
      "primVars[1] = (-beta_0 + beta_3)/(c*rho);\n",
      "primVars[2] = x1;\n",
      "primVars[3] = beta_2;\n"
     ]
    }
   ],
   "source": [
    "r0 = Symbol(r'beta_0')\n",
    "r1 = Symbol(r'beta_1')\n",
    "r2 = Symbol(r'beta_2')\n",
    "r3 = Symbol(r'beta_3')\n",
    "r = Matrix([r0, r1, r2, r3])\n",
    "rp = simplify(R*r)\n",
    "common_exprs_lower, final_expr_lower = cse(rp, list=False)\n",
    "for var, val in common_exprs_lower:\n",
    "    print(cxxcode(val, assign_to=var))\n",
    "print(cxxcode(final_expr_lower, assign_to='primVars'))"
   ]
  },
  {
   "cell_type": "code",
   "execution_count": 13,
   "metadata": {},
   "outputs": [
    {
     "data": {
      "image/png": "[encoded data removed]",
      "text/latex": [
       "$\\displaystyle \\left[\\begin{matrix}1 & 0 & 0 & 0\\\\0 & 1 & 0 & 0\\\\0 & 0 & 1 & 0\\\\0 & 0 & 0 & 1\\end{matrix}\\right]$"
      ],
      "text/plain": [
       "⎡1  0  0  0⎤\n",
       "⎢          ⎥\n",
       "⎢0  1  0  0⎥\n",
       "⎢          ⎥\n",
       "⎢0  0  1  0⎥\n",
       "⎢          ⎥\n",
       "⎣0  0  0  1⎦"
      ]
     },
     "execution_count": 13,
     "metadata": {},
     "output_type": "execute_result"
    }
   ],
   "source": [
    "simplify(R*L)"
   ]
  },
  {
   "cell_type": "code",
   "execution_count": 14,
   "metadata": {},
   "outputs": [
    {
     "data": {
      "image/png": "[encoded data removed]",
      "text/latex": [
       "$\\displaystyle \\left[\\begin{matrix}\\rho_{hat}\\\\u_{hat}\\\\P_{hat}\\\\s_{hat}\\end{matrix}\\right]$"
      ],
      "text/plain": [
       "⎡ρₕₐₜ⎤\n",
       "⎢    ⎥\n",
       "⎢uₕₐₜ⎥\n",
       "⎢    ⎥\n",
       "⎢Pₕₐₜ⎥\n",
       "⎢    ⎥\n",
       "⎣sₕₐₜ⎦"
      ]
     },
     "execution_count": 14,
     "metadata": {},
     "output_type": "execute_result"
    }
   ],
   "source": [
    "simplify(R*qp)"
   ]
  },
  {
   "cell_type": "code",
   "execution_count": null,
   "metadata": {},
   "outputs": [],
   "source": []
  }
 ],
 "metadata": {
  "kernelspec": {
   "display_name": "Python 3",
   "language": "python",
   "name": "python3"
  },
  "language_info": {
   "codemirror_mode": {
    "name": "ipython",
    "version": 3
   },
   "file_extension": ".py",
   "mimetype": "text/x-python",
   "name": "python",
   "nbconvert_exporter": "python",
   "pygments_lexer": "ipython3",
   "version": "3.11.7"
  },
  "orig_nbformat": 4
 },
 "nbformat": 4,
 "nbformat_minor": 2
}
