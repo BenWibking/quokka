{
 "cells": [
  {
   "cell_type": "code",
   "execution_count": 1,
   "metadata": {},
   "outputs": [],
   "source": [
    "from sympy import *\n",
    "init_printing(use_unicode=True)"
   ]
  },
  {
   "cell_type": "markdown",
   "metadata": {},
   "source": [
    "## Primitive variable eigensystem"
   ]
  },
  {
   "cell_type": "code",
   "execution_count": 2,
   "metadata": {},
   "outputs": [
    {
     "data": {
      "image/png": "[encoded data removed]",
      "text/latex": [
       "$\\displaystyle \\left[\\begin{matrix}u & \\rho & 0 & 0 & 0\\\\0 & u & 0 & 0 & \\frac{1}{\\rho}\\\\0 & 0 & u & 0 & 0\\\\0 & 0 & 0 & u & 0\\\\0 & c^{2} \\rho & 0 & 0 & u\\end{matrix}\\right]$"
      ],
      "text/plain": [
       "⎡u   ρ    0  0  0⎤\n",
       "⎢                ⎥\n",
       "⎢               1⎥\n",
       "⎢0   u    0  0  ─⎥\n",
       "⎢               ρ⎥\n",
       "⎢                ⎥\n",
       "⎢0   0    u  0  0⎥\n",
       "⎢                ⎥\n",
       "⎢0   0    0  u  0⎥\n",
       "⎢                ⎥\n",
       "⎢    2           ⎥\n",
       "⎣0  c ⋅ρ  0  0  u⎦"
      ]
     },
     "execution_count": 2,
     "metadata": {},
     "output_type": "execute_result"
    }
   ],
   "source": [
    "rho = Symbol('rho', positive=True) # density\n",
    "c = Symbol('c', positive=True) # sound speed\n",
    "u = Symbol('u') # normal velocity\n",
    "\n",
    "# Jacobian for primitive variable Euler equations\n",
    "F = Matrix([[u, rho, 0, 0, 0],\n",
    "            [0, u, 0, 0, 1/rho],\n",
    "            [0, 0, u, 0, 0],\n",
    "            [0, 0, 0, u, 0],\n",
    "            [0, rho*c**2, 0, 0, u]])\n",
    "F"
   ]
  },
  {
   "cell_type": "code",
   "execution_count": 3,
   "metadata": {},
   "outputs": [
    {
     "data": {
      "image/png": "[encoded data removed]",
      "text/latex": [
       "$\\displaystyle \\left[\\begin{matrix}0 & - c \\rho & 0 & 0 & 1\\\\- c^{2} & 0 & 0 & 0 & 1\\\\0 & 0 & 1 & 0 & 0\\\\0 & 0 & 0 & 1 & 0\\\\0 & c \\rho & 0 & 0 & 1\\end{matrix}\\right]$"
      ],
      "text/plain": [
       "⎡ 0   -c⋅ρ  0  0  1⎤\n",
       "⎢                  ⎥\n",
       "⎢  2               ⎥\n",
       "⎢-c    0    0  0  1⎥\n",
       "⎢                  ⎥\n",
       "⎢ 0    0    1  0  0⎥\n",
       "⎢                  ⎥\n",
       "⎢ 0    0    0  1  0⎥\n",
       "⎢                  ⎥\n",
       "⎣ 0   c⋅ρ   0  0  1⎦"
      ]
     },
     "execution_count": 3,
     "metadata": {},
     "output_type": "execute_result"
    }
   ],
   "source": [
    "# compute the eigenvector matrix S\n",
    "c = Symbol('c')\n",
    "rho = Symbol('rho')\n",
    "lambda_list = [eval for (eval, n, es) in F.left_eigenvects()]\n",
    "Sinv_list = [[ev for ev in es] for (v, n, es) in F.left_eigenvects()]\n",
    "Sinv = Matrix([Sinv_list[1][0],  Sinv_list[0][2], Sinv_list[0][0], Sinv_list[0][1], Sinv_list[2][0]])\n",
    "Sinv"
   ]
  },
  {
   "cell_type": "code",
   "execution_count": 4,
   "metadata": {},
   "outputs": [
    {
     "data": {
      "image/png": "[encoded data removed]",
      "text/latex": [
       "$\\displaystyle \\left[\\begin{matrix}- c + u & 0 & 0 & 0 & 0\\\\0 & u & 0 & 0 & 0\\\\0 & 0 & u & 0 & 0\\\\0 & 0 & 0 & u & 0\\\\0 & 0 & 0 & 0 & c + u\\end{matrix}\\right]$"
      ],
      "text/plain": [
       "⎡-c + u  0  0  0    0  ⎤\n",
       "⎢                      ⎥\n",
       "⎢  0     u  0  0    0  ⎥\n",
       "⎢                      ⎥\n",
       "⎢  0     0  u  0    0  ⎥\n",
       "⎢                      ⎥\n",
       "⎢  0     0  0  u    0  ⎥\n",
       "⎢                      ⎥\n",
       "⎣  0     0  0  0  c + u⎦"
      ]
     },
     "execution_count": 4,
     "metadata": {},
     "output_type": "execute_result"
    }
   ],
   "source": [
    "# compute eigenvalue matrix \\lambda\n",
    "lambda_waves = diag(lambda_list[1], lambda_list[0], lambda_list[0], lambda_list[0], lambda_list[2])\n",
    "lambda_waves"
   ]
  },
  {
   "cell_type": "code",
   "execution_count": 5,
   "metadata": {},
   "outputs": [
    {
     "data": {
      "image/png": "[encoded data removed]",
      "text/latex": [
       "$\\displaystyle \\left[\\begin{matrix}\\frac{1}{2 c^{2}} & - \\frac{1}{c^{2}} & 0 & 0 & \\frac{1}{2 c^{2}}\\\\- \\frac{1}{2 c \\rho} & 0 & 0 & 0 & \\frac{1}{2 c \\rho}\\\\0 & 0 & 1 & 0 & 0\\\\0 & 0 & 0 & 1 & 0\\\\\\frac{1}{2} & 0 & 0 & 0 & \\frac{1}{2}\\end{matrix}\\right]$"
      ],
      "text/plain": [
       "⎡ 1     -1          1   ⎤\n",
       "⎢────   ───  0  0  ──── ⎥\n",
       "⎢   2     2           2 ⎥\n",
       "⎢2⋅c     c         2⋅c  ⎥\n",
       "⎢                       ⎥\n",
       "⎢ -1                 1  ⎥\n",
       "⎢─────   0   0  0  ─────⎥\n",
       "⎢2⋅c⋅ρ             2⋅c⋅ρ⎥\n",
       "⎢                       ⎥\n",
       "⎢  0     0   1  0    0  ⎥\n",
       "⎢                       ⎥\n",
       "⎢  0     0   0  1    0  ⎥\n",
       "⎢                       ⎥\n",
       "⎣ 1/2    0   0  0   1/2 ⎦"
      ]
     },
     "execution_count": 5,
     "metadata": {},
     "output_type": "execute_result"
    }
   ],
   "source": [
    "# compute S^{-1}\n",
    "S = Sinv.inv()\n",
    "S"
   ]
  },
  {
   "cell_type": "code",
   "execution_count": 6,
   "metadata": {},
   "outputs": [
    {
     "data": {
      "image/png": "[encoded data removed]",
      "text/latex": [
       "$\\displaystyle \\left[\\begin{matrix}\\left(- \\frac{dP}{dx} + \\frac{du}{dx} c \\rho\\right) \\left(c - u\\right)\\\\u \\left(\\frac{dP}{dx} - \\frac{d\\rho}{dx} c^{2}\\right)\\\\\\frac{dv}{dx} u\\\\\\frac{dw}{dx} u\\\\\\left(\\frac{dP}{dx} + \\frac{du}{dx} c \\rho\\right) \\left(c + u\\right)\\end{matrix}\\right]$"
      ],
      "text/plain": [
       "⎡(-\\frac{dP}{dx} + \\frac{du}{dx}⋅c⋅ρ)⋅(c - u)⎤\n",
       "⎢                                            ⎥\n",
       "⎢    ⎛                                  2⎞   ⎥\n",
       "⎢  u⋅⎝\\frac{dP}{dx} - \\frac{d\\rho}{dx}⋅c ⎠   ⎥\n",
       "⎢                                            ⎥\n",
       "⎢              \\frac{dv}{dx}⋅u               ⎥\n",
       "⎢                                            ⎥\n",
       "⎢              \\frac{dw}{dx}⋅u               ⎥\n",
       "⎢                                            ⎥\n",
       "⎣(\\frac{dP}{dx} + \\frac{du}{dx}⋅c⋅ρ)⋅(c + u) ⎦"
      ]
     },
     "execution_count": 6,
     "metadata": {},
     "output_type": "execute_result"
    }
   ],
   "source": [
    "# compute the \\mathcal{L} matrix\n",
    "drho_dx = Symbol(r'\\frac{d\\rho}{dx}')\n",
    "du_dx = Symbol(r'\\frac{du}{dx}')\n",
    "dv_dx = Symbol(r'\\frac{dv}{dx}')\n",
    "dw_dx = Symbol(r'\\frac{dw}{dx}')\n",
    "dp_dx = Symbol(r'\\frac{dP}{dx}')\n",
    "\n",
    "dQ_dx_def = Matrix([drho_dx, du_dx, dv_dx, dw_dx, dp_dx])\n",
    "L = simplify(lambda_waves * Sinv * dQ_dx_def)\n",
    "L"
   ]
  },
  {
   "cell_type": "markdown",
   "metadata": {},
   "source": [
    "### x1 Upper Outflow (simplified)"
   ]
  },
  {
   "cell_type": "code",
   "execution_count": 7,
   "metadata": {},
   "outputs": [
    {
     "data": {
      "image/png": "[encoded data removed]",
      "text/latex": [
       "$\\displaystyle \\left[\\begin{matrix}0\\\\u \\left(\\frac{dP}{dx} - \\frac{d\\rho}{dx} c^{2}\\right)\\\\\\frac{dv}{dx} u\\\\\\frac{dw}{dx} u\\\\\\left(\\frac{dP}{dx} + \\frac{du}{dx} c \\rho\\right) \\left(c + u\\right)\\end{matrix}\\right]$"
      ],
      "text/plain": [
       "⎡                     0                     ⎤\n",
       "⎢                                           ⎥\n",
       "⎢    ⎛                                  2⎞  ⎥\n",
       "⎢  u⋅⎝\\frac{dP}{dx} - \\frac{d\\rho}{dx}⋅c ⎠  ⎥\n",
       "⎢                                           ⎥\n",
       "⎢              \\frac{dv}{dx}⋅u              ⎥\n",
       "⎢                                           ⎥\n",
       "⎢              \\frac{dw}{dx}⋅u              ⎥\n",
       "⎢                                           ⎥\n",
       "⎣(\\frac{dP}{dx} + \\frac{du}{dx}⋅c⋅ρ)⋅(c + u)⎦"
      ]
     },
     "execution_count": 7,
     "metadata": {},
     "output_type": "execute_result"
    }
   ],
   "source": [
    "K = Symbol('K')\n",
    "p = Symbol('P')\n",
    "p_t = Symbol('P_t')\n",
    "L_outflow_x1_upper = Matrix([0, L[1], L[2], L[3], L[4]])\n",
    "L_outflow_x1_upper"
   ]
  },
  {
   "cell_type": "code",
   "execution_count": 8,
   "metadata": {},
   "outputs": [
    {
     "data": {
      "image/png": "[encoded data removed]",
      "text/latex": [
       "$\\displaystyle \\left[\\begin{matrix}- \\frac{\\frac{dP}{dx}}{2 c^{2}} + \\frac{d\\rho}{dx} + \\frac{\\frac{du}{dx} \\rho}{2 c}\\\\\\frac{\\frac{dP}{dx}}{2 c \\rho} + \\frac{\\frac{du}{dx}}{2}\\\\\\frac{dv}{dx}\\\\\\frac{dw}{dx}\\\\\\frac{\\frac{dP}{dx}}{2} + \\frac{\\frac{du}{dx} c \\rho}{2}\\end{matrix}\\right]$"
      ],
      "text/plain": [
       "⎡  \\frac{dP}{dx}                      \\frac{du}{dx}⋅ρ⎤\n",
       "⎢- ───────────── + \\frac{d\\rho}{dx} + ───────────────⎥\n",
       "⎢          2                                2⋅c      ⎥\n",
       "⎢       2⋅c                                          ⎥\n",
       "⎢                                                    ⎥\n",
       "⎢           \\frac{dP}{dx}   \\frac{du}{dx}            ⎥\n",
       "⎢           ───────────── + ─────────────            ⎥\n",
       "⎢               2⋅c⋅ρ             2                  ⎥\n",
       "⎢                                                    ⎥\n",
       "⎢                   \\frac{dv}{dx}                    ⎥\n",
       "⎢                                                    ⎥\n",
       "⎢                   \\frac{dw}{dx}                    ⎥\n",
       "⎢                                                    ⎥\n",
       "⎢         \\frac{dP}{dx}   \\frac{du}{dx}⋅c⋅ρ          ⎥\n",
       "⎢         ───────────── + ─────────────────          ⎥\n",
       "⎣               2                 2                  ⎦"
      ]
     },
     "execution_count": 8,
     "metadata": {},
     "output_type": "execute_result"
    }
   ],
   "source": [
    "dQ_dx_outflow_x1_upper = simplify(S * Inverse(lambda_waves) * L_outflow_x1_upper)\n",
    "dQ_dx_outflow_x1_upper"
   ]
  },
  {
   "cell_type": "code",
   "execution_count": 9,
   "metadata": {},
   "outputs": [
    {
     "name": "stdout",
     "output_type": "stream",
     "text": [
      "dQ_dx[0] = drho_dx + (1.0/2.0)*du_dx*rho/c - 1.0/2.0*dP_dx/std::pow(c, 2);\n",
      "dQ_dx[1] = (1.0/2.0)*du_dx + (1.0/2.0)*dP_dx/(c*rho);\n",
      "dQ_dx[2] = dv_dx;\n",
      "dQ_dx[3] = dw_dx;\n",
      "dQ_dx[4] = (1.0/2.0)*c*du_dx*rho + (1.0/2.0)*dP_dx;\n"
     ]
    }
   ],
   "source": [
    "drho_dx = Symbol('drho_dx')\n",
    "du_dx = Symbol('du_dx')\n",
    "dv_dx = Symbol('dv_dx')\n",
    "dw_dx = Symbol('dw_dx')\n",
    "dp_dx = Symbol('dP_dx')\n",
    "dQ_dx_def = Matrix([drho_dx, du_dx, dv_dx, dw_dx, dp_dx])\n",
    "L = simplify(lambda_waves * Sinv * dQ_dx_def)\n",
    "\n",
    "L_outflow_x1_upper = Matrix([0, L[1], L[2], L[3], L[4]])\n",
    "dQ_dx_outflow_x1_upper = simplify(S * Inverse(lambda_waves) * L_outflow_x1_upper)\n",
    "print(cxxcode(dQ_dx_outflow_x1_upper, assign_to='dQ_dx'))"
   ]
  },
  {
   "cell_type": "markdown",
   "metadata": {},
   "source": [
    "### x1 Lower Inflow (simplified)"
   ]
  },
  {
   "cell_type": "code",
   "execution_count": 10,
   "metadata": {},
   "outputs": [
    {
     "data": {
      "image/png": "[encoded data removed]",
      "text/latex": [
       "$\\displaystyle \\left[\\begin{matrix}\\left(c - u\\right) \\left(c du_{dx} \\rho - dP_{dx}\\right)\\\\0\\\\0\\\\0\\\\0\\end{matrix}\\right]$"
      ],
      "text/plain": [
       "⎡(c - u)⋅(c⋅du_dx⋅ρ - dP_dx)⎤\n",
       "⎢                           ⎥\n",
       "⎢             0             ⎥\n",
       "⎢                           ⎥\n",
       "⎢             0             ⎥\n",
       "⎢                           ⎥\n",
       "⎢             0             ⎥\n",
       "⎢                           ⎥\n",
       "⎣             0             ⎦"
      ]
     },
     "execution_count": 10,
     "metadata": {},
     "output_type": "execute_result"
    }
   ],
   "source": [
    "eta_2 = Symbol('eta_2')\n",
    "eta_3 = Symbol('eta_3')\n",
    "eta_4 = Symbol('eta_4')\n",
    "eta_5 = Symbol('eta_5')\n",
    "Lx = Symbol('L_x')\n",
    "M = Symbol('M')\n",
    "u_t = Symbol('u_t')\n",
    "v = Symbol('v')\n",
    "v_t = Symbol('v_t')\n",
    "w = Symbol('w')\n",
    "w_t = Symbol('w_t')\n",
    "\n",
    "#L_inflow_x1_lower = Matrix([L[0],\n",
    "#                            eta_2*(c/Lx)*(p-p_t),\n",
    "#                            eta_3*(c/Lx)*(v-v_t),\n",
    "#                            eta_4*(c/Lx)*(w-w_t),\n",
    "#                            eta_5*(rho*c**2 * (1 - M**2) / Lx)*(u - u_t)])\n",
    "\n",
    "L_inflow_x1_lower = Matrix([L[0], 0, 0, 0, 0])\n",
    "L_inflow_x1_lower"
   ]
  },
  {
   "cell_type": "code",
   "execution_count": 11,
   "metadata": {},
   "outputs": [
    {
     "data": {
      "image/png": "[encoded data removed]",
      "text/latex": [
       "$\\displaystyle \\left[\\begin{matrix}\\frac{- c du_{dx} \\rho + dP_{dx}}{2 c^{2}}\\\\\\frac{du_{dx}}{2} - \\frac{dP_{dx}}{2 c \\rho}\\\\0\\\\0\\\\- \\frac{c du_{dx} \\rho}{2} + \\frac{dP_{dx}}{2}\\end{matrix}\\right]$"
      ],
      "text/plain": [
       "⎡-c⋅du_dx⋅ρ + dP_dx ⎤\n",
       "⎢────────────────── ⎥\n",
       "⎢          2        ⎥\n",
       "⎢       2⋅c         ⎥\n",
       "⎢                   ⎥\n",
       "⎢   du_dx   dP_dx   ⎥\n",
       "⎢   ───── - ─────   ⎥\n",
       "⎢     2     2⋅c⋅ρ   ⎥\n",
       "⎢                   ⎥\n",
       "⎢         0         ⎥\n",
       "⎢                   ⎥\n",
       "⎢         0         ⎥\n",
       "⎢                   ⎥\n",
       "⎢  c⋅du_dx⋅ρ   dP_dx⎥\n",
       "⎢- ───────── + ─────⎥\n",
       "⎣      2         2  ⎦"
      ]
     },
     "execution_count": 11,
     "metadata": {},
     "output_type": "execute_result"
    }
   ],
   "source": [
    "dQ_dx_inflow_x1_lower = simplify(S * Inverse(lambda_waves) * L_inflow_x1_lower)\n",
    "dQ_dx_inflow_x1_lower"
   ]
  },
  {
   "cell_type": "code",
   "execution_count": 12,
   "metadata": {},
   "outputs": [
    {
     "name": "stdout",
     "output_type": "stream",
     "text": [
      "dQ_dx[0] = (1.0/2.0)*(-c*du_dx*rho + dP_dx)/std::pow(c, 2);\n",
      "dQ_dx[1] = (1.0/2.0)*du_dx - 1.0/2.0*dP_dx/(c*rho);\n",
      "dQ_dx[2] = 0;\n",
      "dQ_dx[3] = 0;\n",
      "dQ_dx[4] = -1.0/2.0*c*du_dx*rho + (1.0/2.0)*dP_dx;\n"
     ]
    }
   ],
   "source": [
    "drho_dx = Symbol('drho_dx')\n",
    "du_dx = Symbol('du_dx')\n",
    "dv_dx = Symbol('dv_dx')\n",
    "dw_dx = Symbol('dw_dx')\n",
    "dp_dx = Symbol('dP_dx')\n",
    "dQ_dx_def = Matrix([drho_dx, du_dx, dv_dx, dw_dx, dp_dx])\n",
    "L = simplify(lambda_waves * Sinv * dQ_dx_def)\n",
    "\n",
    "#L_inflow_x1_lower = Matrix([L[0],\n",
    "#                            eta_2*(c/Lx)*(p-p_t),\n",
    "#                            eta_3*(c/Lx)*(v-v_t),\n",
    "#                            eta_4*(c/Lx)*(w-w_t),\n",
    "#                            eta_5*(rho*c**2 * (1 - M**2) / Lx)*(u - u_t)])\n",
    "\n",
    "L_inflow_x1_lower = Matrix([L[0], 0, 0, 0, 0])\n",
    "\n",
    "dQ_dx_inflow_x1_lower = simplify(S * Inverse(lambda_waves) * L_inflow_x1_lower)\n",
    "print(cxxcode(dQ_dx_inflow_x1_lower, assign_to='dQ_dx'))"
   ]
  },
  {
   "cell_type": "markdown",
   "metadata": {},
   "source": [
    "### x1 Upper Outflow (with relaxation term)"
   ]
  },
  {
   "cell_type": "code",
   "execution_count": 13,
   "metadata": {},
   "outputs": [
    {
     "data": {
      "image/png": "[encoded data removed]",
      "text/latex": [
       "$\\displaystyle \\left[\\begin{matrix}K \\left(P - P_{t}\\right)\\\\u \\left(- c^{2} drho_{dx} + dP_{dx}\\right)\\\\dv_{dx} u\\\\dw_{dx} u\\\\\\left(c + u\\right) \\left(c du_{dx} \\rho + dP_{dx}\\right)\\end{matrix}\\right]$"
      ],
      "text/plain": [
       "⎡        K⋅(P - Pₜ)         ⎤\n",
       "⎢                           ⎥\n",
       "⎢   ⎛   2                ⎞  ⎥\n",
       "⎢ u⋅⎝- c ⋅drho_dx + dP_dx⎠  ⎥\n",
       "⎢                           ⎥\n",
       "⎢          dv_dx⋅u          ⎥\n",
       "⎢                           ⎥\n",
       "⎢          dw_dx⋅u          ⎥\n",
       "⎢                           ⎥\n",
       "⎣(c + u)⋅(c⋅du_dx⋅ρ + dP_dx)⎦"
      ]
     },
     "execution_count": 13,
     "metadata": {},
     "output_type": "execute_result"
    }
   ],
   "source": [
    "K = Symbol('K')\n",
    "p = Symbol('P')\n",
    "p_t = Symbol('P_t')\n",
    "L_outflow_x1_upper = Matrix([K*(p - p_t), L[1], L[2], L[3], L[4]])\n",
    "L_outflow_x1_upper"
   ]
  },
  {
   "cell_type": "code",
   "execution_count": 14,
   "metadata": {},
   "outputs": [
    {
     "data": {
      "image/png": "[encoded data removed]",
      "text/latex": [
       "$\\displaystyle \\left[\\begin{matrix}\\frac{- K \\left(P - P_{t}\\right) + \\left(c - u\\right) \\left(2 c^{2} drho_{dx} + c du_{dx} \\rho - dP_{dx}\\right)}{2 c^{2} \\left(c - u\\right)}\\\\\\frac{K \\left(P - P_{t}\\right) + \\left(c - u\\right) \\left(c du_{dx} \\rho + dP_{dx}\\right)}{2 c \\rho \\left(c - u\\right)}\\\\dv_{dx}\\\\dw_{dx}\\\\\\frac{- K \\left(P - P_{t}\\right) + \\left(c - u\\right) \\left(c du_{dx} \\rho + dP_{dx}\\right)}{2 \\left(c - u\\right)}\\end{matrix}\\right]$"
      ],
      "text/plain": [
       "⎡                      ⎛   2                            ⎞⎤\n",
       "⎢-K⋅(P - Pₜ) + (c - u)⋅⎝2⋅c ⋅drho_dx + c⋅du_dx⋅ρ - dP_dx⎠⎥\n",
       "⎢────────────────────────────────────────────────────────⎥\n",
       "⎢                         2                              ⎥\n",
       "⎢                      2⋅c ⋅(c - u)                      ⎥\n",
       "⎢                                                        ⎥\n",
       "⎢        K⋅(P - Pₜ) + (c - u)⋅(c⋅du_dx⋅ρ + dP_dx)        ⎥\n",
       "⎢        ────────────────────────────────────────        ⎥\n",
       "⎢                     2⋅c⋅ρ⋅(c - u)                      ⎥\n",
       "⎢                                                        ⎥\n",
       "⎢                         dv_dx                          ⎥\n",
       "⎢                                                        ⎥\n",
       "⎢                         dw_dx                          ⎥\n",
       "⎢                                                        ⎥\n",
       "⎢       -K⋅(P - Pₜ) + (c - u)⋅(c⋅du_dx⋅ρ + dP_dx)        ⎥\n",
       "⎢       ─────────────────────────────────────────        ⎥\n",
       "⎣                       2⋅(c - u)                        ⎦"
      ]
     },
     "execution_count": 14,
     "metadata": {},
     "output_type": "execute_result"
    }
   ],
   "source": [
    "dQ_dx_outflow_x1_upper = simplify(S * Inverse(lambda_waves) * L_outflow_x1_upper)\n",
    "dQ_dx_outflow_x1_upper"
   ]
  },
  {
   "cell_type": "code",
   "execution_count": 15,
   "metadata": {},
   "outputs": [
    {
     "name": "stdout",
     "output_type": "stream",
     "text": [
      "dQ_dx[0] = (1.0/2.0)*(-K*(P - P_t) + (c - u)*(2*std::pow(c, 2)*drho_dx + c*du_dx*rho - dP_dx))/(std::pow(c, 2)*(c - u));\n",
      "dQ_dx[1] = (1.0/2.0)*(K*(P - P_t) + (c - u)*(c*du_dx*rho + dP_dx))/(c*rho*(c - u));\n",
      "dQ_dx[2] = dv_dx;\n",
      "dQ_dx[3] = dw_dx;\n",
      "dQ_dx[4] = (1.0/2.0)*(-K*(P - P_t) + (c - u)*(c*du_dx*rho + dP_dx))/(c - u);\n"
     ]
    }
   ],
   "source": [
    "drho_dx = Symbol('drho_dx')\n",
    "du_dx = Symbol('du_dx')\n",
    "dv_dx = Symbol('dv_dx')\n",
    "dw_dx = Symbol('dw_dx')\n",
    "dp_dx = Symbol('dP_dx')\n",
    "dQ_dx_def = Matrix([drho_dx, du_dx, dv_dx, dw_dx, dp_dx])\n",
    "L = simplify(lambda_waves * Sinv * dQ_dx_def)\n",
    "\n",
    "L_outflow_x1_upper = Matrix([K*(p - p_t), L[1], L[2], L[3], L[4]])\n",
    "dQ_dx_outflow_x1_upper = simplify(S * Inverse(lambda_waves) * L_outflow_x1_upper)\n",
    "print(cxxcode(dQ_dx_outflow_x1_upper, assign_to='dQ_dx'))"
   ]
  },
  {
   "cell_type": "markdown",
   "metadata": {},
   "source": [
    "### x1 lower inflow (with relaxation term)"
   ]
  },
  {
   "cell_type": "code",
   "execution_count": 16,
   "metadata": {},
   "outputs": [
    {
     "data": {
      "image/png": "[encoded data removed]",
      "text/latex": [
       "$\\displaystyle \\left[\\begin{matrix}\\left(c - u\\right) \\left(c du_{dx} \\rho - dP_{dx}\\right)\\\\\\frac{c \\eta_{2} \\left(P - P_{t}\\right)}{L_{x}}\\\\\\frac{c \\eta_{3} \\left(v - v_{t}\\right)}{L_{x}}\\\\\\frac{c \\eta_{4} \\left(w - w_{t}\\right)}{L_{x}}\\\\\\frac{c^{2} \\eta_{5} \\rho \\left(1 - M^{2}\\right) \\left(u - u_{t}\\right)}{L_{x}}\\end{matrix}\\right]$"
      ],
      "text/plain": [
       "⎡(c - u)⋅(c⋅du_dx⋅ρ - dP_dx)⎤\n",
       "⎢                           ⎥\n",
       "⎢       c⋅η₂⋅(P - Pₜ)       ⎥\n",
       "⎢       ─────────────       ⎥\n",
       "⎢             Lₓ            ⎥\n",
       "⎢                           ⎥\n",
       "⎢       c⋅η₃⋅(v - vₜ)       ⎥\n",
       "⎢       ─────────────       ⎥\n",
       "⎢             Lₓ            ⎥\n",
       "⎢                           ⎥\n",
       "⎢       c⋅η₄⋅(w - wₜ)       ⎥\n",
       "⎢       ─────────────       ⎥\n",
       "⎢             Lₓ            ⎥\n",
       "⎢                           ⎥\n",
       "⎢  2      ⎛     2⎞          ⎥\n",
       "⎢ c ⋅η₅⋅ρ⋅⎝1 - M ⎠⋅(u - uₜ) ⎥\n",
       "⎢ ───────────────────────── ⎥\n",
       "⎣             Lₓ            ⎦"
      ]
     },
     "execution_count": 16,
     "metadata": {},
     "output_type": "execute_result"
    }
   ],
   "source": [
    "eta_2 = Symbol('eta_2')\n",
    "eta_3 = Symbol('eta_3')\n",
    "eta_4 = Symbol('eta_4')\n",
    "eta_5 = Symbol('eta_5')\n",
    "Lx = Symbol('L_x')\n",
    "M = Symbol('M')\n",
    "u_t = Symbol('u_t')\n",
    "v = Symbol('v')\n",
    "v_t = Symbol('v_t')\n",
    "w = Symbol('w')\n",
    "w_t = Symbol('w_t')\n",
    "\n",
    "L_inflow_x1_lower = Matrix([L[0],\n",
    "                            eta_2*(c/Lx)*(p-p_t),\n",
    "                            eta_3*(c/Lx)*(v-v_t),\n",
    "                            eta_4*(c/Lx)*(w-w_t),\n",
    "                            eta_5*(rho*c**2 * (1 - M**2) / Lx)*(u - u_t)])\n",
    "L_inflow_x1_lower"
   ]
  },
  {
   "cell_type": "code",
   "execution_count": 17,
   "metadata": {},
   "outputs": [
    {
     "data": {
      "image/png": "[encoded data removed]",
      "text/latex": [
       "$\\displaystyle \\left[\\begin{matrix}\\frac{L_{x} u \\left(c + u\\right) \\left(- c du_{dx} \\rho + dP_{dx}\\right) - c^{2} \\eta_{5} \\rho u \\left(M^{2} - 1\\right) \\left(u - u_{t}\\right) - 2 c \\eta_{2} \\left(P - P_{t}\\right) \\left(c + u\\right)}{2 L_{x} c^{2} u \\left(c + u\\right)}\\\\\\frac{L_{x} \\left(c + u\\right) \\left(c du_{dx} \\rho - dP_{dx}\\right) - c^{2} \\eta_{5} \\rho \\left(M^{2} - 1\\right) \\left(u - u_{t}\\right)}{2 L_{x} c \\rho \\left(c + u\\right)}\\\\\\frac{c \\eta_{3} \\left(v - v_{t}\\right)}{L_{x} u}\\\\\\frac{c \\eta_{4} \\left(w - w_{t}\\right)}{L_{x} u}\\\\\\frac{L_{x} \\left(c + u\\right) \\left(- c du_{dx} \\rho + dP_{dx}\\right) - c^{2} \\eta_{5} \\rho \\left(M^{2} - 1\\right) \\left(u - u_{t}\\right)}{2 L_{x} \\left(c + u\\right)}\\end{matrix}\\right]$"
      ],
      "text/plain": [
       "⎡                                     2        ⎛ 2    ⎞                       \n",
       "⎢Lₓ⋅u⋅(c + u)⋅(-c⋅du_dx⋅ρ + dP_dx) - c ⋅η₅⋅ρ⋅u⋅⎝M  - 1⎠⋅(u - uₜ) - 2⋅c⋅η₂⋅(P -\n",
       "⎢─────────────────────────────────────────────────────────────────────────────\n",
       "⎢                                          2                                  \n",
       "⎢                                    2⋅Lₓ⋅c ⋅u⋅(c + u)                        \n",
       "⎢                                                                             \n",
       "⎢                                                 2      ⎛ 2    ⎞             \n",
       "⎢               Lₓ⋅(c + u)⋅(c⋅du_dx⋅ρ - dP_dx) - c ⋅η₅⋅ρ⋅⎝M  - 1⎠⋅(u - uₜ)    \n",
       "⎢               ──────────────────────────────────────────────────────────    \n",
       "⎢                                    2⋅Lₓ⋅c⋅ρ⋅(c + u)                         \n",
       "⎢                                                                             \n",
       "⎢                                      c⋅η₃⋅(v - vₜ)                          \n",
       "⎢                                      ─────────────                          \n",
       "⎢                                           Lₓ⋅u                              \n",
       "⎢                                                                             \n",
       "⎢                                      c⋅η₄⋅(w - wₜ)                          \n",
       "⎢                                      ─────────────                          \n",
       "⎢                                           Lₓ⋅u                              \n",
       "⎢                                                                             \n",
       "⎢                                                  2      ⎛ 2    ⎞            \n",
       "⎢               Lₓ⋅(c + u)⋅(-c⋅du_dx⋅ρ + dP_dx) - c ⋅η₅⋅ρ⋅⎝M  - 1⎠⋅(u - uₜ)   \n",
       "⎢               ───────────────────────────────────────────────────────────   \n",
       "⎣                                       2⋅Lₓ⋅(c + u)                          \n",
       "\n",
       "            ⎤\n",
       " Pₜ)⋅(c + u)⎥\n",
       "────────────⎥\n",
       "            ⎥\n",
       "            ⎥\n",
       "            ⎥\n",
       "            ⎥\n",
       "            ⎥\n",
       "            ⎥\n",
       "            ⎥\n",
       "            ⎥\n",
       "            ⎥\n",
       "            ⎥\n",
       "            ⎥\n",
       "            ⎥\n",
       "            ⎥\n",
       "            ⎥\n",
       "            ⎥\n",
       "            ⎥\n",
       "            ⎥\n",
       "            ⎥\n",
       "            ⎥\n",
       "            ⎦"
      ]
     },
     "execution_count": 17,
     "metadata": {},
     "output_type": "execute_result"
    }
   ],
   "source": [
    "dQ_dx_inflow_x1_lower = simplify(S * Inverse(lambda_waves) * L_inflow_x1_lower)\n",
    "dQ_dx_inflow_x1_lower"
   ]
  },
  {
   "cell_type": "code",
   "execution_count": 18,
   "metadata": {},
   "outputs": [
    {
     "name": "stdout",
     "output_type": "stream",
     "text": [
      "dQ_dx[0] = (1.0/2.0)*(L_x*u*(c + u)*(-c*du_dx*rho + dP_dx) - std::pow(c, 2)*eta_5*rho*u*(std::pow(M, 2) - 1)*(u - u_t) - 2*c*eta_2*(P - P_t)*(c + u))/(L_x*std::pow(c, 2)*u*(c + u));\n",
      "dQ_dx[1] = (1.0/2.0)*(L_x*(c + u)*(c*du_dx*rho - dP_dx) - std::pow(c, 2)*eta_5*rho*(std::pow(M, 2) - 1)*(u - u_t))/(L_x*c*rho*(c + u));\n",
      "dQ_dx[2] = c*eta_3*(v - v_t)/(L_x*u);\n",
      "dQ_dx[3] = c*eta_4*(w - w_t)/(L_x*u);\n",
      "dQ_dx[4] = (1.0/2.0)*(L_x*(c + u)*(-c*du_dx*rho + dP_dx) - std::pow(c, 2)*eta_5*rho*(std::pow(M, 2) - 1)*(u - u_t))/(L_x*(c + u));\n"
     ]
    }
   ],
   "source": [
    "drho_dx = Symbol('drho_dx')\n",
    "du_dx = Symbol('du_dx')\n",
    "dv_dx = Symbol('dv_dx')\n",
    "dw_dx = Symbol('dw_dx')\n",
    "dp_dx = Symbol('dP_dx')\n",
    "dQ_dx_def = Matrix([drho_dx, du_dx, dv_dx, dw_dx, dp_dx])\n",
    "L = simplify(lambda_waves * Sinv * dQ_dx_def)\n",
    "\n",
    "L_inflow_x1_lower = Matrix([L[0],\n",
    "                            eta_2*(c/Lx)*(p-p_t),\n",
    "                            eta_3*(c/Lx)*(v-v_t),\n",
    "                            eta_4*(c/Lx)*(w-w_t),\n",
    "                            eta_5*(rho*c**2 * (1 - M**2) / Lx)*(u - u_t)])\n",
    "\n",
    "dQ_dx_inflow_x1_lower = simplify(S * Inverse(lambda_waves) * L_inflow_x1_lower)\n",
    "print(cxxcode(dQ_dx_inflow_x1_lower, assign_to='dQ_dx'))"
   ]
  },
  {
   "cell_type": "markdown",
   "metadata": {},
   "source": [
    "## inflow with zero normal velocity"
   ]
  },
  {
   "cell_type": "code",
   "execution_count": 19,
   "metadata": {},
   "outputs": [
    {
     "data": {
      "image/png": "[encoded data removed]",
      "text/latex": [
       "$\\displaystyle \\left[\\begin{matrix}c \\left(c du_{dx} \\rho - dP_{dx}\\right)\\\\\\frac{c \\eta_{2} \\left(P - P_{t}\\right)}{L_{x}}\\\\\\frac{c \\eta_{3} \\left(v - v_{t}\\right)}{L_{x}}\\\\\\frac{c \\eta_{4} \\left(w - w_{t}\\right)}{L_{x}}\\\\- \\frac{c^{2} \\eta_{5} \\rho u_{t} \\left(1 - M^{2}\\right)}{L_{x}}\\end{matrix}\\right]$"
      ],
      "text/plain": [
       "⎡c⋅(c⋅du_dx⋅ρ - dP_dx)⎤\n",
       "⎢                     ⎥\n",
       "⎢    c⋅η₂⋅(P - Pₜ)    ⎥\n",
       "⎢    ─────────────    ⎥\n",
       "⎢          Lₓ         ⎥\n",
       "⎢                     ⎥\n",
       "⎢    c⋅η₃⋅(v - vₜ)    ⎥\n",
       "⎢    ─────────────    ⎥\n",
       "⎢          Lₓ         ⎥\n",
       "⎢                     ⎥\n",
       "⎢    c⋅η₄⋅(w - wₜ)    ⎥\n",
       "⎢    ─────────────    ⎥\n",
       "⎢          Lₓ         ⎥\n",
       "⎢                     ⎥\n",
       "⎢  2         ⎛     2⎞ ⎥\n",
       "⎢-c ⋅η₅⋅ρ⋅uₜ⋅⎝1 - M ⎠ ⎥\n",
       "⎢─────────────────────⎥\n",
       "⎣          Lₓ         ⎦"
      ]
     },
     "execution_count": 19,
     "metadata": {},
     "output_type": "execute_result"
    }
   ],
   "source": [
    "L_inflow_x1_lower_zerou = L_inflow_x1_lower.subs(u, 0)\n",
    "L_inflow_x1_lower_zerou"
   ]
  },
  {
   "cell_type": "code",
   "execution_count": 20,
   "metadata": {},
   "outputs": [
    {
     "data": {
      "image/png": "[encoded data removed]",
      "text/latex": [
       "$\\displaystyle \\left[\\begin{matrix}- \\frac{1}{c} & 0 & 0 & 0 & 0\\\\0 & 0 & 0 & 0 & 0\\\\0 & 0 & 0 & 0 & 0\\\\0 & 0 & 0 & 0 & 0\\\\0 & 0 & 0 & 0 & \\frac{1}{c}\\end{matrix}\\right]$"
      ],
      "text/plain": [
       "⎡-1             ⎤\n",
       "⎢───  0  0  0  0⎥\n",
       "⎢ c             ⎥\n",
       "⎢               ⎥\n",
       "⎢ 0   0  0  0  0⎥\n",
       "⎢               ⎥\n",
       "⎢ 0   0  0  0  0⎥\n",
       "⎢               ⎥\n",
       "⎢ 0   0  0  0  0⎥\n",
       "⎢               ⎥\n",
       "⎢              1⎥\n",
       "⎢ 0   0  0  0  ─⎥\n",
       "⎣              c⎦"
      ]
     },
     "execution_count": 20,
     "metadata": {},
     "output_type": "execute_result"
    }
   ],
   "source": [
    "def pinv(x): # Moore-Penrose pseudoinverse of a diagonal matrix\n",
    "    if x != 0:\n",
    "        return x**-1\n",
    "    else:\n",
    "        return 0\n",
    "ll = [pinv(l.subs(u,0)) for l in lambda_list]\n",
    "linv_zerou = diag(ll[1], ll[0], ll[0], ll[0], ll[2])\n",
    "linv_zerou"
   ]
  },
  {
   "cell_type": "code",
   "execution_count": 21,
   "metadata": {},
   "outputs": [
    {
     "data": {
      "image/png": "[encoded data removed]",
      "text/latex": [
       "$\\displaystyle \\left[\\begin{matrix}\\frac{L_{x} c \\left(- c du_{dx} \\rho + dP_{dx}\\right) + c^{2} \\eta_{5} \\rho u_{t} \\left(M^{2} - 1\\right)}{2 L_{x} c^{3}}\\\\\\frac{L_{x} c \\left(c du_{dx} \\rho - dP_{dx}\\right) + c^{2} \\eta_{5} \\rho u_{t} \\left(M^{2} - 1\\right)}{2 L_{x} c^{2} \\rho}\\\\0\\\\0\\\\\\frac{L_{x} c \\left(- c du_{dx} \\rho + dP_{dx}\\right) + c^{2} \\eta_{5} \\rho u_{t} \\left(M^{2} - 1\\right)}{2 L_{x} c}\\end{matrix}\\right]$"
      ],
      "text/plain": [
       "⎡                             2         ⎛ 2    ⎞⎤\n",
       "⎢Lₓ⋅c⋅(-c⋅du_dx⋅ρ + dP_dx) + c ⋅η₅⋅ρ⋅uₜ⋅⎝M  - 1⎠⎥\n",
       "⎢───────────────────────────────────────────────⎥\n",
       "⎢                          3                    ⎥\n",
       "⎢                    2⋅Lₓ⋅c                     ⎥\n",
       "⎢                                               ⎥\n",
       "⎢                            2         ⎛ 2    ⎞ ⎥\n",
       "⎢Lₓ⋅c⋅(c⋅du_dx⋅ρ - dP_dx) + c ⋅η₅⋅ρ⋅uₜ⋅⎝M  - 1⎠ ⎥\n",
       "⎢────────────────────────────────────────────── ⎥\n",
       "⎢                        2                      ⎥\n",
       "⎢                  2⋅Lₓ⋅c ⋅ρ                    ⎥\n",
       "⎢                                               ⎥\n",
       "⎢                       0                       ⎥\n",
       "⎢                                               ⎥\n",
       "⎢                       0                       ⎥\n",
       "⎢                                               ⎥\n",
       "⎢                             2         ⎛ 2    ⎞⎥\n",
       "⎢Lₓ⋅c⋅(-c⋅du_dx⋅ρ + dP_dx) + c ⋅η₅⋅ρ⋅uₜ⋅⎝M  - 1⎠⎥\n",
       "⎢───────────────────────────────────────────────⎥\n",
       "⎣                     2⋅Lₓ⋅c                    ⎦"
      ]
     },
     "execution_count": 21,
     "metadata": {},
     "output_type": "execute_result"
    }
   ],
   "source": [
    "dQ_dx_inflow_x1_lower_zerou = simplify(S * linv_zerou * L_inflow_x1_lower_zerou)\n",
    "dQ_dx_inflow_x1_lower_zerou"
   ]
  },
  {
   "cell_type": "code",
   "execution_count": 22,
   "metadata": {},
   "outputs": [
    {
     "name": "stdout",
     "output_type": "stream",
     "text": [
      "dQ_dx[0] = (1.0/2.0)*(L_x*c*(-c*du_dx*rho + dP_dx) + std::pow(c, 2)*eta_5*rho*u_t*(std::pow(M, 2) - 1))/(L_x*std::pow(c, 3));\n",
      "dQ_dx[1] = (1.0/2.0)*(L_x*c*(c*du_dx*rho - dP_dx) + std::pow(c, 2)*eta_5*rho*u_t*(std::pow(M, 2) - 1))/(L_x*std::pow(c, 2)*rho);\n",
      "dQ_dx[2] = 0;\n",
      "dQ_dx[3] = 0;\n",
      "dQ_dx[4] = (1.0/2.0)*(L_x*c*(-c*du_dx*rho + dP_dx) + std::pow(c, 2)*eta_5*rho*u_t*(std::pow(M, 2) - 1))/(L_x*c);\n"
     ]
    }
   ],
   "source": [
    "print(cxxcode(dQ_dx_inflow_x1_lower_zerou, assign_to='dQ_dx'))"
   ]
  },
  {
   "cell_type": "code",
   "execution_count": null,
   "metadata": {},
   "outputs": [],
   "source": []
  }
 ],
 "metadata": {
  "kernelspec": {
   "display_name": "Python 3",
   "language": "python",
   "name": "python3"
  },
  "language_info": {
   "codemirror_mode": {
    "name": "ipython",
    "version": 3
   },
   "file_extension": ".py",
   "mimetype": "text/x-python",
   "name": "python",
   "nbconvert_exporter": "python",
   "pygments_lexer": "ipython3",
   "version": "3.11.4"
  },
  "orig_nbformat": 4
 },
 "nbformat": 4,
 "nbformat_minor": 2
}
