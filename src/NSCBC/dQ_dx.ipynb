{
 "cells": [
  {
   "cell_type": "code",
   "execution_count": 2,
   "metadata": {},
   "outputs": [],
   "source": [
    "from sympy import *\n",
    "init_printing(use_unicode=True)"
   ]
  },
  {
   "cell_type": "code",
   "execution_count": 90,
   "metadata": {},
   "outputs": [
    {
     "data": {
      "image/png": "[encoded data removed]",
      "text/latex": [
       "$\\displaystyle \\left[\\begin{matrix}\\frac{1}{2 c^{2}} & \\frac{1}{c^{2}} & 0 & 0 & \\frac{1}{2 c^{2}}\\\\- \\frac{1}{2 c \\rho} & 0 & 0 & 0 & \\frac{1}{2 c \\rho}\\\\0 & 0 & 1 & 0 & 0\\\\0 & 0 & 0 & 1 & 0\\\\0.5 & 0 & 0 & 0 & 0.5\\end{matrix}\\right]$"
      ],
      "text/plain": [
       "⎡ 1     1          1   ⎤\n",
       "⎢────   ──  0  0  ──── ⎥\n",
       "⎢   2    2           2 ⎥\n",
       "⎢2⋅c    c         2⋅c  ⎥\n",
       "⎢                      ⎥\n",
       "⎢ -1                1  ⎥\n",
       "⎢─────  0   0  0  ─────⎥\n",
       "⎢2⋅c⋅ρ            2⋅c⋅ρ⎥\n",
       "⎢                      ⎥\n",
       "⎢  0    0   1  0    0  ⎥\n",
       "⎢                      ⎥\n",
       "⎢  0    0   0  1    0  ⎥\n",
       "⎢                      ⎥\n",
       "⎣ 0.5   0   0  0   0.5 ⎦"
      ]
     },
     "execution_count": 90,
     "metadata": {},
     "output_type": "execute_result"
    }
   ],
   "source": [
    "# compute the eigenvector matrix S\n",
    "c = Symbol('c')\n",
    "rho = Symbol('rho')\n",
    "S = Matrix([[1/(2*c**2), 1/c**2, 0, 0, 1/(2*c**2)],\n",
    "            [-1/(2*rho*c), 0, 0, 0, 1/(2*rho*c)],\n",
    "            [0, 0, 1, 0, 0],\n",
    "            [0, 0, 0, 1, 0],\n",
    "            [1/2, 0, 0, 0, 1/2]])\n",
    "S"
   ]
  },
  {
   "cell_type": "code",
   "execution_count": 91,
   "metadata": {},
   "outputs": [
    {
     "data": {
      "image/png": "[encoded data removed]",
      "text/latex": [
       "$\\displaystyle \\left[\\begin{matrix}- c + u & 0 & 0 & 0 & 0\\\\0 & u & 0 & 0 & 0\\\\0 & 0 & u & 0 & 0\\\\0 & 0 & 0 & u & 0\\\\0 & 0 & 0 & 0 & c + u\\end{matrix}\\right]$"
      ],
      "text/plain": [
       "⎡-c + u  0  0  0    0  ⎤\n",
       "⎢                      ⎥\n",
       "⎢  0     u  0  0    0  ⎥\n",
       "⎢                      ⎥\n",
       "⎢  0     0  u  0    0  ⎥\n",
       "⎢                      ⎥\n",
       "⎢  0     0  0  u    0  ⎥\n",
       "⎢                      ⎥\n",
       "⎣  0     0  0  0  c + u⎦"
      ]
     },
     "execution_count": 91,
     "metadata": {},
     "output_type": "execute_result"
    }
   ],
   "source": [
    "# compute eigenvalue matrix \\lambda\n",
    "u = Symbol('u')\n",
    "lambda_waves = diag(u-c, u, u, u, u+c)\n",
    "lambda_waves"
   ]
  },
  {
   "cell_type": "code",
   "execution_count": 99,
   "metadata": {},
   "outputs": [
    {
     "data": {
      "image/png": "[encoded data removed]",
      "text/latex": [
       "$\\displaystyle \\left[\\begin{matrix}0 & - 1.0 c \\rho & 0 & 0 & 1.0\\\\1.0 c^{2} & 0 & 0 & 0 & -1.0\\\\0 & 0 & 1 & 0 & 0\\\\0 & 0 & 0 & 1 & 0\\\\0 & 1.0 c \\rho & 0 & 0 & 1.0\\end{matrix}\\right]$"
      ],
      "text/plain": [
       "⎡  0     -1.0⋅c⋅ρ  0  0  1.0 ⎤\n",
       "⎢                            ⎥\n",
       "⎢     2                      ⎥\n",
       "⎢1.0⋅c      0      0  0  -1.0⎥\n",
       "⎢                            ⎥\n",
       "⎢  0        0      1  0   0  ⎥\n",
       "⎢                            ⎥\n",
       "⎢  0        0      0  1   0  ⎥\n",
       "⎢                            ⎥\n",
       "⎣  0     1.0⋅c⋅ρ   0  0  1.0 ⎦"
      ]
     },
     "execution_count": 99,
     "metadata": {},
     "output_type": "execute_result"
    }
   ],
   "source": [
    "# compute S^{-1}\n",
    "Sinv = S.inv()\n",
    "Sinv"
   ]
  },
  {
   "cell_type": "code",
   "execution_count": 132,
   "metadata": {},
   "outputs": [
    {
     "data": {
      "image/png": "[encoded data removed]",
      "text/latex": [
       "$\\displaystyle \\left[\\begin{matrix}1.0 \\left(c - u\\right) \\left(c du_{dx} \\rho - dP_{dx}\\right)\\\\1.0 u \\left(c^{2} drho_{dx} - dP_{dx}\\right)\\\\dv_{dx} u\\\\dw_{dx} u\\\\1.0 \\left(c + u\\right) \\left(c du_{dx} \\rho + dP_{dx}\\right)\\end{matrix}\\right]$"
      ],
      "text/plain": [
       "⎡1.0⋅(c - u)⋅(c⋅du_dx⋅ρ - dP_dx)⎤\n",
       "⎢                               ⎥\n",
       "⎢        ⎛ 2                ⎞   ⎥\n",
       "⎢  1.0⋅u⋅⎝c ⋅drho_dx - dP_dx⎠   ⎥\n",
       "⎢                               ⎥\n",
       "⎢            dv_dx⋅u            ⎥\n",
       "⎢                               ⎥\n",
       "⎢            dw_dx⋅u            ⎥\n",
       "⎢                               ⎥\n",
       "⎣1.0⋅(c + u)⋅(c⋅du_dx⋅ρ + dP_dx)⎦"
      ]
     },
     "execution_count": 132,
     "metadata": {},
     "output_type": "execute_result"
    }
   ],
   "source": [
    "# compute the \\mathcal{L} matrix\n",
    "#drho_dx = Symbol(r'\\frac{\\partial \\rho}{\\partial x}')\n",
    "#du_dx = Symbol(r'\\frac{\\partial u}{\\partial x}')\n",
    "#dv_dx = Symbol(r'\\frac{\\partial v}{\\partial x}')\n",
    "#dw_dx = Symbol(r'\\frac{\\partial w}{\\partial x}')\n",
    "#dp_dx = Symbol(r'\\frac{\\partial p}{\\partial x}')\n",
    "drho_dx = Symbol('drho_dx')\n",
    "du_dx = Symbol('du_dx')\n",
    "dv_dx = Symbol('dv_dx')\n",
    "dw_dx = Symbol('dw_dx')\n",
    "dp_dx = Symbol('dP_dx')\n",
    "dQ_dx_def = Matrix([drho_dx, du_dx, dv_dx, dw_dx, dp_dx])\n",
    "L = simplify(lambda_waves * Sinv * dQ_dx_def)\n",
    "L"
   ]
  },
  {
   "cell_type": "code",
   "execution_count": 117,
   "metadata": {},
   "outputs": [
    {
     "data": {
      "image/png": "[encoded data removed]",
      "text/latex": [
       "$\\displaystyle \\left[\\begin{matrix}K \\left(P - P_{t}\\right)\\\\1.0 u \\left(\\frac{\\partial \\rho}{\\partial x} c^{2} - \\frac{\\partial p}{\\partial x}\\right)\\\\\\frac{\\partial v}{\\partial x} u\\\\\\frac{\\partial w}{\\partial x} u\\\\1.0 \\left(\\frac{\\partial p}{\\partial x} + \\frac{\\partial u}{\\partial x} c \\rho\\right) \\left(c + u\\right)\\end{matrix}\\right]$"
      ],
      "text/plain": [
       "⎡                                  K⋅(P - Pₜ)                                 \n",
       "⎢                                                                             \n",
       "⎢        ⎛                                  2                                ⎞\n",
       "⎢  1.0⋅u⋅⎝\\frac{\\partial \\rho}{\\partial x}⋅c  - \\frac{\\partial p}{\\partial x}⎠\n",
       "⎢                                                                             \n",
       "⎢                        \\frac{\\partial v}{\\partial x}⋅u                      \n",
       "⎢                                                                             \n",
       "⎢                        \\frac{\\partial w}{\\partial x}⋅u                      \n",
       "⎢                                                                             \n",
       "⎣1.0⋅(\\frac{\\partial p}{\\partial x} + \\frac{\\partial u}{\\partial x}⋅c⋅ρ)⋅(c + \n",
       "\n",
       "  ⎤\n",
       "  ⎥\n",
       "  ⎥\n",
       "  ⎥\n",
       "  ⎥\n",
       "  ⎥\n",
       "  ⎥\n",
       "  ⎥\n",
       "  ⎥\n",
       "u)⎦"
      ]
     },
     "execution_count": 117,
     "metadata": {},
     "output_type": "execute_result"
    }
   ],
   "source": [
    "K = Symbol('K')\n",
    "p = Symbol('P')\n",
    "p_t = Symbol('P_t')\n",
    "L_outflow_x1_upper = Matrix([K*(p-p_t), L[1], L[2], L[3], L[4]])\n",
    "L_outflow_x1_upper"
   ]
  },
  {
   "cell_type": "code",
   "execution_count": 118,
   "metadata": {},
   "outputs": [
    {
     "data": {
      "image/png": "[encoded data removed]",
      "text/latex": [
       "$\\displaystyle \\left[\\begin{matrix}\\frac{- K \\left(P - P_{t}\\right) + \\left(c - u\\right) \\left(2.0 \\frac{\\partial \\rho}{\\partial x} c^{2} - 1.0 \\frac{\\partial p}{\\partial x} + \\frac{\\partial u}{\\partial x} c \\rho\\right)}{2 c^{2} \\left(c - u\\right)}\\\\\\frac{K \\left(P - P_{t}\\right) + \\left(\\frac{\\partial p}{\\partial x} + \\frac{\\partial u}{\\partial x} c \\rho\\right) \\left(c - u\\right)}{2 c \\rho \\left(c - u\\right)}\\\\\\frac{\\partial v}{\\partial x}\\\\\\frac{\\partial w}{\\partial x}\\\\\\frac{0.5 \\left(- K \\left(P - P_{t}\\right) + \\left(\\frac{\\partial p}{\\partial x} + \\frac{\\partial u}{\\partial x} c \\rho\\right) \\left(c - u\\right)\\right)}{c - u}\\end{matrix}\\right]$"
      ],
      "text/plain": [
       "⎡                      ⎛                                      2               \n",
       "⎢-K⋅(P - Pₜ) + (c - u)⋅⎝2.0⋅\\frac{\\partial \\rho}{\\partial x}⋅c  - \\frac{\\parti\n",
       "⎢─────────────────────────────────────────────────────────────────────────────\n",
       "⎢                                                               2             \n",
       "⎢                                                            2⋅c ⋅(c - u)     \n",
       "⎢                                                                             \n",
       "⎢                     K⋅(P - Pₜ) + (\\frac{\\partial p}{\\partial x} + \\frac{\\par\n",
       "⎢                     ────────────────────────────────────────────────────────\n",
       "⎢                                                          2⋅c⋅ρ⋅(c - u)      \n",
       "⎢                                                                             \n",
       "⎢                                                   \\frac{\\partial v}{\\partial\n",
       "⎢                                                                             \n",
       "⎢                                                   \\frac{\\partial w}{\\partial\n",
       "⎢                                                                             \n",
       "⎢                  0.5⋅(-K⋅(P - Pₜ) + (\\frac{\\partial p}{\\partial x} + \\frac{\\\n",
       "⎢                  ───────────────────────────────────────────────────────────\n",
       "⎣                                                               c - u         \n",
       "\n",
       "                                                     ⎞⎤\n",
       "al p}{\\partial x} + \\frac{\\partial u}{\\partial x}⋅c⋅ρ⎠⎥\n",
       "──────────────────────────────────────────────────────⎥\n",
       "                                                      ⎥\n",
       "                                                      ⎥\n",
       "                                                      ⎥\n",
       "tial u}{\\partial x}⋅c⋅ρ)⋅(c - u)                      ⎥\n",
       "────────────────────────────────                      ⎥\n",
       "                                                      ⎥\n",
       "                                                      ⎥\n",
       " x}                                                   ⎥\n",
       "                                                      ⎥\n",
       " x}                                                   ⎥\n",
       "                                                      ⎥\n",
       "partial u}{\\partial x}⋅c⋅ρ)⋅(c - u))                  ⎥\n",
       "────────────────────────────────────                  ⎥\n",
       "                                                      ⎦"
      ]
     },
     "execution_count": 118,
     "metadata": {},
     "output_type": "execute_result"
    }
   ],
   "source": [
    "dQ_dx_outflow_x1_upper = simplify(S * Inverse(lambda_waves) * L_outflow_x1_upper)\n",
    "dQ_dx_outflow_x1_upper"
   ]
  },
  {
   "cell_type": "code",
   "execution_count": 111,
   "metadata": {},
   "outputs": [
    {
     "data": {
      "text/plain": [
       "'(1.0/2.0)*(-K*(P - P_t) + (c - u)*(2.0*std::pow(c, 2)*drho_dx + c*du_dx*rho - 1.0*dP_dx))/(std::pow(c, 2)*(c - u))'"
      ]
     },
     "execution_count": 111,
     "metadata": {},
     "output_type": "execute_result"
    }
   ],
   "source": [
    "cxxcode(dQ_dx_outflow_x1_upper[0])"
   ]
  },
  {
   "cell_type": "code",
   "execution_count": 112,
   "metadata": {},
   "outputs": [
    {
     "data": {
      "text/plain": [
       "'(1.0/2.0)*(K*(P - P_t) + (c - u)*(c*du_dx*rho + dP_dx))/(c*rho*(c - u))'"
      ]
     },
     "execution_count": 112,
     "metadata": {},
     "output_type": "execute_result"
    }
   ],
   "source": [
    "cxxcode(dQ_dx_outflow_x1_upper[1])"
   ]
  },
  {
   "cell_type": "code",
   "execution_count": 113,
   "metadata": {},
   "outputs": [
    {
     "data": {
      "text/plain": [
       "'dv_dx'"
      ]
     },
     "execution_count": 113,
     "metadata": {},
     "output_type": "execute_result"
    }
   ],
   "source": [
    "cxxcode(dQ_dx_outflow_x1_upper[2])"
   ]
  },
  {
   "cell_type": "code",
   "execution_count": 114,
   "metadata": {},
   "outputs": [
    {
     "data": {
      "text/plain": [
       "'dw_dx'"
      ]
     },
     "execution_count": 114,
     "metadata": {},
     "output_type": "execute_result"
    }
   ],
   "source": [
    "cxxcode(dQ_dx_outflow_x1_upper[3])"
   ]
  },
  {
   "cell_type": "code",
   "execution_count": 115,
   "metadata": {},
   "outputs": [
    {
     "data": {
      "text/plain": [
       "'0.5*(-K*(P - P_t) + (c - u)*(c*du_dx*rho + dP_dx))/(c - u)'"
      ]
     },
     "execution_count": 115,
     "metadata": {},
     "output_type": "execute_result"
    }
   ],
   "source": [
    "cxxcode(dQ_dx_outflow_x1_upper[4])"
   ]
  },
  {
   "cell_type": "code",
   "execution_count": 133,
   "metadata": {},
   "outputs": [
    {
     "data": {
      "image/png": "[encoded data removed]",
      "text/latex": [
       "$\\displaystyle \\left[\\begin{matrix}1.0 \\left(c - u\\right) \\left(c du_{dx} \\rho - dP_{dx}\\right)\\\\\\frac{c \\eta_{2} \\left(P - P_{t}\\right)}{L_{x}}\\\\\\frac{c \\eta_{3} \\left(v - v_{t}\\right)}{L_{x}}\\\\\\frac{c \\eta_{4} \\left(w - w_{t}\\right)}{L_{x}}\\\\\\frac{c^{2} \\eta_{5} \\rho \\left(1 - M^{2}\\right) \\left(u - u_{t}\\right)}{L_{x}}\\end{matrix}\\right]$"
      ],
      "text/plain": [
       "⎡1.0⋅(c - u)⋅(c⋅du_dx⋅ρ - dP_dx)⎤\n",
       "⎢                               ⎥\n",
       "⎢         c⋅η₂⋅(P - Pₜ)         ⎥\n",
       "⎢         ─────────────         ⎥\n",
       "⎢               Lₓ              ⎥\n",
       "⎢                               ⎥\n",
       "⎢         c⋅η₃⋅(v - vₜ)         ⎥\n",
       "⎢         ─────────────         ⎥\n",
       "⎢               Lₓ              ⎥\n",
       "⎢                               ⎥\n",
       "⎢         c⋅η₄⋅(w - wₜ)         ⎥\n",
       "⎢         ─────────────         ⎥\n",
       "⎢               Lₓ              ⎥\n",
       "⎢                               ⎥\n",
       "⎢    2      ⎛     2⎞            ⎥\n",
       "⎢   c ⋅η₅⋅ρ⋅⎝1 - M ⎠⋅(u - uₜ)   ⎥\n",
       "⎢   ─────────────────────────   ⎥\n",
       "⎣               Lₓ              ⎦"
      ]
     },
     "execution_count": 133,
     "metadata": {},
     "output_type": "execute_result"
    }
   ],
   "source": [
    "eta_2 = Symbol('eta_2')\n",
    "eta_3 = Symbol('eta_3')\n",
    "eta_4 = Symbol('eta_4')\n",
    "eta_5 = Symbol('eta_5')\n",
    "Lx = Symbol('L_x')\n",
    "M = Symbol('M')\n",
    "u_t = Symbol('u_t')\n",
    "v = Symbol('v')\n",
    "v_t = Symbol('v_t')\n",
    "w = Symbol('w')\n",
    "w_t = Symbol('w_t')\n",
    "\n",
    "L_inflow_x1_lower = Matrix([L[0],\n",
    "                            eta_2*(c/Lx)*(p-p_t),\n",
    "                            eta_3*(c/Lx)*(v-v_t),\n",
    "                            eta_4*(c/Lx)*(w-w_t),\n",
    "                            eta_5*(rho*c**2 * (1 - M**2) / Lx)*(u - u_t)])\n",
    "L_inflow_x1_lower"
   ]
  },
  {
   "cell_type": "code",
   "execution_count": 134,
   "metadata": {},
   "outputs": [
    {
     "data": {
      "image/png": "[encoded data removed]",
      "text/latex": [
       "$\\displaystyle \\left[\\begin{matrix}\\frac{L_{x} u \\left(c + u\\right) \\left(- 1.0 c du_{dx} \\rho + dP_{dx}\\right) - c^{2} \\eta_{5} \\rho u \\left(M^{2} - 1\\right) \\left(u - u_{t}\\right) + 2 c \\eta_{2} \\left(P - P_{t}\\right) \\left(c + u\\right)}{2 L_{x} c^{2} u \\left(c + u\\right)}\\\\\\frac{L_{x} \\left(c + u\\right) \\left(c du_{dx} \\rho - 1.0 dP_{dx}\\right) - c^{2} \\eta_{5} \\rho \\left(M^{2} - 1\\right) \\left(u - u_{t}\\right)}{2 L_{x} c \\rho \\left(c + u\\right)}\\\\\\frac{c \\eta_{3} \\left(v - v_{t}\\right)}{L_{x} u}\\\\\\frac{c \\eta_{4} \\left(w - w_{t}\\right)}{L_{x} u}\\\\\\frac{0.5 \\left(L_{x} \\left(c + u\\right) \\left(- c du_{dx} \\rho + dP_{dx}\\right) - c^{2} \\eta_{5} \\rho \\left(M^{2} - 1\\right) \\left(u - u_{t}\\right)\\right)}{L_{x} \\left(c + u\\right)}\\end{matrix}\\right]$"
      ],
      "text/plain": [
       "⎡                                     2        ⎛ 2    ⎞                       \n",
       "⎢Lₓ⋅u⋅(c + u)⋅(-c⋅du_dx⋅ρ + dP_dx) - c ⋅η₅⋅ρ⋅u⋅⎝M  - 1⎠⋅(u - uₜ) + 2⋅c⋅η₂⋅(P -\n",
       "⎢─────────────────────────────────────────────────────────────────────────────\n",
       "⎢                                          2                                  \n",
       "⎢                                    2⋅Lₓ⋅c ⋅u⋅(c + u)                        \n",
       "⎢                                                                             \n",
       "⎢                                                 2      ⎛ 2    ⎞             \n",
       "⎢               Lₓ⋅(c + u)⋅(c⋅du_dx⋅ρ - dP_dx) - c ⋅η₅⋅ρ⋅⎝M  - 1⎠⋅(u - uₜ)    \n",
       "⎢               ──────────────────────────────────────────────────────────    \n",
       "⎢                                    2⋅Lₓ⋅c⋅ρ⋅(c + u)                         \n",
       "⎢                                                                             \n",
       "⎢                                      c⋅η₃⋅(v - vₜ)                          \n",
       "⎢                                      ─────────────                          \n",
       "⎢                                           Lₓ⋅u                              \n",
       "⎢                                                                             \n",
       "⎢                                      c⋅η₄⋅(w - wₜ)                          \n",
       "⎢                                      ─────────────                          \n",
       "⎢                                           Lₓ⋅u                              \n",
       "⎢                                                                             \n",
       "⎢                ⎛                                   2      ⎛ 2    ⎞         ⎞\n",
       "⎢            0.5⋅⎝Lₓ⋅(c + u)⋅(-c⋅du_dx⋅ρ + dP_dx) - c ⋅η₅⋅ρ⋅⎝M  - 1⎠⋅(u - uₜ)⎠\n",
       "⎢            ─────────────────────────────────────────────────────────────────\n",
       "⎣                                        Lₓ⋅(c + u)                           \n",
       "\n",
       "            ⎤\n",
       " Pₜ)⋅(c + u)⎥\n",
       "────────────⎥\n",
       "            ⎥\n",
       "            ⎥\n",
       "            ⎥\n",
       "            ⎥\n",
       "            ⎥\n",
       "            ⎥\n",
       "            ⎥\n",
       "            ⎥\n",
       "            ⎥\n",
       "            ⎥\n",
       "            ⎥\n",
       "            ⎥\n",
       "            ⎥\n",
       "            ⎥\n",
       "            ⎥\n",
       "            ⎥\n",
       "            ⎥\n",
       "            ⎥\n",
       "            ⎥\n",
       "            ⎦"
      ]
     },
     "execution_count": 134,
     "metadata": {},
     "output_type": "execute_result"
    }
   ],
   "source": [
    "dQ_dx_inflow_x1_lower = simplify(S * Inverse(lambda_waves) * L_inflow_x1_lower)\n",
    "dQ_dx_inflow_x1_lower"
   ]
  },
  {
   "cell_type": "code",
   "execution_count": 140,
   "metadata": {},
   "outputs": [
    {
     "data": {
      "text/plain": [
       "'(1.0/2.0)*(L_x*u*(c + u)*(-1.0*c*du_dx*rho + dP_dx) - std::pow(c, 2)*eta_5*rho*u*(std::pow(M, 2) - 1)*(u - u_t) + 2*c*eta_2*(P - P_t)*(c + u))/(L_x*std::pow(c, 2)*u*(c + u))'"
      ]
     },
     "execution_count": 140,
     "metadata": {},
     "output_type": "execute_result"
    }
   ],
   "source": [
    "cxxcode(dQ_dx_inflow_x1_lower[0])"
   ]
  },
  {
   "cell_type": "code",
   "execution_count": 141,
   "metadata": {},
   "outputs": [
    {
     "data": {
      "text/plain": [
       "'(1.0/2.0)*(L_x*(c + u)*(c*du_dx*rho - 1.0*dP_dx) - std::pow(c, 2)*eta_5*rho*(std::pow(M, 2) - 1)*(u - u_t))/(L_x*c*rho*(c + u))'"
      ]
     },
     "execution_count": 141,
     "metadata": {},
     "output_type": "execute_result"
    }
   ],
   "source": [
    "cxxcode(dQ_dx_inflow_x1_lower[1])"
   ]
  },
  {
   "cell_type": "code",
   "execution_count": 142,
   "metadata": {},
   "outputs": [
    {
     "data": {
      "text/plain": [
       "'c*eta_3*(v - v_t)/(L_x*u)'"
      ]
     },
     "execution_count": 142,
     "metadata": {},
     "output_type": "execute_result"
    }
   ],
   "source": [
    "cxxcode(dQ_dx_inflow_x1_lower[2])"
   ]
  },
  {
   "cell_type": "code",
   "execution_count": 143,
   "metadata": {},
   "outputs": [
    {
     "data": {
      "text/plain": [
       "'c*eta_4*(w - w_t)/(L_x*u)'"
      ]
     },
     "execution_count": 143,
     "metadata": {},
     "output_type": "execute_result"
    }
   ],
   "source": [
    "cxxcode(dQ_dx_inflow_x1_lower[3])"
   ]
  },
  {
   "cell_type": "code",
   "execution_count": 144,
   "metadata": {},
   "outputs": [
    {
     "data": {
      "text/plain": [
       "'0.5*(L_x*(c + u)*(-c*du_dx*rho + dP_dx) - std::pow(c, 2)*eta_5*rho*(std::pow(M, 2) - 1)*(u - u_t))/(L_x*(c + u))'"
      ]
     },
     "execution_count": 144,
     "metadata": {},
     "output_type": "execute_result"
    }
   ],
   "source": [
    "cxxcode(dQ_dx_inflow_x1_lower[4])"
   ]
  },
  {
   "cell_type": "code",
   "execution_count": null,
   "metadata": {},
   "outputs": [],
   "source": []
  }
 ],
 "metadata": {
  "kernelspec": {
   "display_name": "Python 3",
   "language": "python",
   "name": "python3"
  },
  "language_info": {
   "codemirror_mode": {
    "name": "ipython",
    "version": 3
   },
   "file_extension": ".py",
   "mimetype": "text/x-python",
   "name": "python",
   "nbconvert_exporter": "python",
   "pygments_lexer": "ipython3",
   "version": "3.11.4"
  },
  "orig_nbformat": 4
 },
 "nbformat": 4,
 "nbformat_minor": 2
}
