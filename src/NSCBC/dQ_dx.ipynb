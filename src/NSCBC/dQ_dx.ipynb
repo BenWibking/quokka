{
 "cells": [
  {
   "cell_type": "code",
   "execution_count": 2,
   "metadata": {},
   "outputs": [],
   "source": [
    "from sympy import *\n",
    "init_printing(use_unicode=True)"
   ]
  },
  {
   "cell_type": "code",
   "execution_count": 9,
   "metadata": {},
   "outputs": [
    {
     "data": {
      "image/png": "[encoded data removed]",
      "text/latex": [
       "$\\displaystyle \\left[\\begin{matrix}\\frac{1}{2 c^{2}} & \\frac{1}{c^{2}} & 0 & \\frac{1}{2 c^{2}}\\\\- \\frac{1}{2 c \\rho} & 0 & 0 & \\frac{1}{2 c \\rho}\\\\0 & 0 & 1 & 0\\\\0.5 & 0 & 0 & 0.5\\end{matrix}\\right]$"
      ],
      "text/plain": [
       "⎡ 1     1       1   ⎤\n",
       "⎢────   ──  0  ──── ⎥\n",
       "⎢   2    2        2 ⎥\n",
       "⎢2⋅c    c      2⋅c  ⎥\n",
       "⎢                   ⎥\n",
       "⎢ -1             1  ⎥\n",
       "⎢─────  0   0  ─────⎥\n",
       "⎢2⋅c⋅ρ         2⋅c⋅ρ⎥\n",
       "⎢                   ⎥\n",
       "⎢  0    0   1    0  ⎥\n",
       "⎢                   ⎥\n",
       "⎣ 0.5   0   0   0.5 ⎦"
      ]
     },
     "execution_count": 9,
     "metadata": {},
     "output_type": "execute_result"
    }
   ],
   "source": [
    "# compute the eigenvector matrix S\n",
    "c = Symbol('c')\n",
    "rho = Symbol('rho')\n",
    "S = Matrix([[1/(2*c**2), 1/c**2, 0, 1/(2*c**2)],\n",
    "            [-1/(2*rho*c), 0, 0, 1/(2*rho*c)],\n",
    "            [0, 0, 1, 0],\n",
    "            [1/2, 0, 0, 1/2]])\n",
    "S"
   ]
  },
  {
   "cell_type": "code",
   "execution_count": 30,
   "metadata": {},
   "outputs": [
    {
     "data": {
      "image/png": "[encoded data removed]",
      "text/latex": [
       "$\\displaystyle \\left[\\begin{matrix}- c + u & 0 & 0 & 0\\\\0 & u & 0 & 0\\\\0 & 0 & u & 0\\\\0 & 0 & 0 & c + u\\end{matrix}\\right]$"
      ],
      "text/plain": [
       "⎡-c + u  0  0    0  ⎤\n",
       "⎢                   ⎥\n",
       "⎢  0     u  0    0  ⎥\n",
       "⎢                   ⎥\n",
       "⎢  0     0  u    0  ⎥\n",
       "⎢                   ⎥\n",
       "⎣  0     0  0  c + u⎦"
      ]
     },
     "execution_count": 30,
     "metadata": {},
     "output_type": "execute_result"
    }
   ],
   "source": [
    "# compute eigenvalue matrix \\lambda\n",
    "u = Symbol('u')\n",
    "lambda_waves = diag(u-c, u, u, u+c)\n",
    "lambda_waves"
   ]
  },
  {
   "cell_type": "code",
   "execution_count": 33,
   "metadata": {},
   "outputs": [
    {
     "data": {
      "image/png": "[encoded data removed]",
      "text/latex": [
       "$\\displaystyle \\left[\\begin{matrix}0 & - c \\rho & 0 & 1\\\\c^{2} & 0 & 0 & -1\\\\0 & 0 & 1 & 0\\\\0 & c \\rho & 0 & 1\\end{matrix}\\right]$"
      ],
      "text/plain": [
       "⎡0   -c⋅ρ  0  1 ⎤\n",
       "⎢               ⎥\n",
       "⎢ 2             ⎥\n",
       "⎢c    0    0  -1⎥\n",
       "⎢               ⎥\n",
       "⎢0    0    1  0 ⎥\n",
       "⎢               ⎥\n",
       "⎣0   c⋅ρ   0  1 ⎦"
      ]
     },
     "execution_count": 33,
     "metadata": {},
     "output_type": "execute_result"
    }
   ],
   "source": [
    "Sinv = Matrix([[0, -rho*c, 0, 1],\n",
    "              [c**2, 0, 0, -1],\n",
    "              [0, 0, 1, 0],\n",
    "              [0, rho*c, 0, 1]])\n",
    "Sinv"
   ]
  },
  {
   "cell_type": "code",
   "execution_count": 66,
   "metadata": {},
   "outputs": [
    {
     "data": {
      "image/png": "[encoded data removed]",
      "text/latex": [
       "$\\displaystyle \\left[\\begin{matrix}\\left(c - u\\right) \\left(c du_{dx} \\rho - dp_{dx}\\right)\\\\u \\left(c^{2} drho_{dx} - dp_{dx}\\right)\\\\dv_{dx} u\\\\\\left(c + u\\right) \\left(c du_{dx} \\rho + dp_{dx}\\right)\\end{matrix}\\right]$"
      ],
      "text/plain": [
       "⎡(c - u)⋅(c⋅du_dx⋅ρ - dp_dx)⎤\n",
       "⎢                           ⎥\n",
       "⎢    ⎛ 2                ⎞   ⎥\n",
       "⎢  u⋅⎝c ⋅drho_dx - dp_dx⎠   ⎥\n",
       "⎢                           ⎥\n",
       "⎢          dv_dx⋅u          ⎥\n",
       "⎢                           ⎥\n",
       "⎣(c + u)⋅(c⋅du_dx⋅ρ + dp_dx)⎦"
      ]
     },
     "execution_count": 66,
     "metadata": {},
     "output_type": "execute_result"
    }
   ],
   "source": [
    "# compute the \\mathcal{L} matrix\n",
    "#drho_dx = Symbol(r'\\frac{\\partial \\rho}{\\partial x}')\n",
    "#du_dx = Symbol(r'\\frac{\\partial u}{\\partial x}')\n",
    "#dv_vx = Symbol(r'\\frac{\\partial v}{\\partial x}')\n",
    "#dp_dx = Symbol(r'\\frac{\\partial p}{\\partial x}')\n",
    "drho_dx = Symbol('drho_dx')\n",
    "du_dx = Symbol('du_dx')\n",
    "dv_vx = Symbol('dv_dx')\n",
    "dp_dx = Symbol('dp_dx')\n",
    "dQ_dx_def = Matrix([drho_dx, du_dx, dv_vx, dp_dx])\n",
    "L = simplify(lambda_waves * Sinv * dQ_dx_def)\n",
    "L"
   ]
  },
  {
   "cell_type": "code",
   "execution_count": 67,
   "metadata": {},
   "outputs": [
    {
     "data": {
      "image/png": "[encoded data removed]",
      "text/latex": [
       "$\\displaystyle \\left[\\begin{matrix}K \\left(p - p_{t}\\right)\\\\u \\left(c^{2} drho_{dx} - dp_{dx}\\right)\\\\dv_{dx} u\\\\\\left(c + u\\right) \\left(c du_{dx} \\rho + dp_{dx}\\right)\\end{matrix}\\right]$"
      ],
      "text/plain": [
       "⎡        K⋅(p - pₜ)         ⎤\n",
       "⎢                           ⎥\n",
       "⎢    ⎛ 2                ⎞   ⎥\n",
       "⎢  u⋅⎝c ⋅drho_dx - dp_dx⎠   ⎥\n",
       "⎢                           ⎥\n",
       "⎢          dv_dx⋅u          ⎥\n",
       "⎢                           ⎥\n",
       "⎣(c + u)⋅(c⋅du_dx⋅ρ + dp_dx)⎦"
      ]
     },
     "execution_count": 67,
     "metadata": {},
     "output_type": "execute_result"
    }
   ],
   "source": [
    "K = Symbol('K')\n",
    "p = Symbol('p')\n",
    "p_t = Symbol('p_t')\n",
    "L_outflow_x1_upper = Matrix([K*(p-p_t), L[1], L[2], L[3]])\n",
    "L_outflow_x1_upper"
   ]
  },
  {
   "cell_type": "code",
   "execution_count": 68,
   "metadata": {},
   "outputs": [
    {
     "data": {
      "image/png": "[encoded data removed]",
      "text/latex": [
       "$\\displaystyle \\left[\\begin{matrix}\\frac{- K \\left(p - p_{t}\\right) + \\left(c - u\\right) \\left(2 c^{2} drho_{dx} + c du_{dx} \\rho - dp_{dx}\\right)}{2 c^{2} \\left(c - u\\right)}\\\\\\frac{K \\left(p - p_{t}\\right) + \\left(c - u\\right) \\left(c du_{dx} \\rho + dp_{dx}\\right)}{2 c \\rho \\left(c - u\\right)}\\\\dv_{dx}\\\\\\frac{0.5 \\left(- K \\left(p - p_{t}\\right) + \\left(c - u\\right) \\left(c du_{dx} \\rho + dp_{dx}\\right)\\right)}{c - u}\\end{matrix}\\right]$"
      ],
      "text/plain": [
       "⎡                      ⎛   2                            ⎞⎤\n",
       "⎢-K⋅(p - pₜ) + (c - u)⋅⎝2⋅c ⋅drho_dx + c⋅du_dx⋅ρ - dp_dx⎠⎥\n",
       "⎢────────────────────────────────────────────────────────⎥\n",
       "⎢                         2                              ⎥\n",
       "⎢                      2⋅c ⋅(c - u)                      ⎥\n",
       "⎢                                                        ⎥\n",
       "⎢        K⋅(p - pₜ) + (c - u)⋅(c⋅du_dx⋅ρ + dp_dx)        ⎥\n",
       "⎢        ────────────────────────────────────────        ⎥\n",
       "⎢                     2⋅c⋅ρ⋅(c - u)                      ⎥\n",
       "⎢                                                        ⎥\n",
       "⎢                         dv_dx                          ⎥\n",
       "⎢                                                        ⎥\n",
       "⎢    0.5⋅(-K⋅(p - pₜ) + (c - u)⋅(c⋅du_dx⋅ρ + dp_dx))     ⎥\n",
       "⎢    ───────────────────────────────────────────────     ⎥\n",
       "⎣                         c - u                          ⎦"
      ]
     },
     "execution_count": 68,
     "metadata": {},
     "output_type": "execute_result"
    }
   ],
   "source": [
    "dQ_dx_outflow_x1_upper = simplify(S * Inverse(lambda_waves) * L_outflow_x1_upper)\n",
    "dQ_dx_outflow_x1_upper"
   ]
  },
  {
   "cell_type": "code",
   "execution_count": 81,
   "metadata": {},
   "outputs": [
    {
     "data": {
      "text/plain": [
       "'(1.0/2.0)*(-K*(p - p_t) + (c - u)*(2*std::pow(c, 2)*drho_dx + c*du_dx*rho - dp_dx))/(std::pow(c, 2)*(c - u))'"
      ]
     },
     "execution_count": 81,
     "metadata": {},
     "output_type": "execute_result"
    }
   ],
   "source": [
    "cxxcode(dQ_dx_outflow_x1_upper[0])"
   ]
  },
  {
   "cell_type": "code",
   "execution_count": 78,
   "metadata": {},
   "outputs": [
    {
     "data": {
      "text/plain": [
       "'(1.0/2.0)*(K*(p - p_t) + (c - u)*(c*du_dx*rho + dp_dx))/(c*rho*(c - u))'"
      ]
     },
     "execution_count": 78,
     "metadata": {},
     "output_type": "execute_result"
    }
   ],
   "source": [
    "cxxcode(dQ_dx_outflow_x1_upper[1])"
   ]
  },
  {
   "cell_type": "code",
   "execution_count": 79,
   "metadata": {},
   "outputs": [
    {
     "data": {
      "text/plain": [
       "'dv_dx'"
      ]
     },
     "execution_count": 79,
     "metadata": {},
     "output_type": "execute_result"
    }
   ],
   "source": [
    "cxxcode(dQ_dx_outflow_x1_upper[2])"
   ]
  },
  {
   "cell_type": "code",
   "execution_count": 76,
   "metadata": {},
   "outputs": [
    {
     "data": {
      "text/plain": [
       "'0.5*(-K*(p - p_t) + (c - u)*(c*du_dx*rho + dp_dx))/(c - u)'"
      ]
     },
     "execution_count": 76,
     "metadata": {},
     "output_type": "execute_result"
    }
   ],
   "source": [
    "cxxcode(dQ_dx_outflow_x1_upper[3])"
   ]
  }
 ],
 "metadata": {
  "kernelspec": {
   "display_name": "Python 3",
   "language": "python",
   "name": "python3"
  },
  "language_info": {
   "codemirror_mode": {
    "name": "ipython",
    "version": 3
   },
   "file_extension": ".py",
   "mimetype": "text/x-python",
   "name": "python",
   "nbconvert_exporter": "python",
   "pygments_lexer": "ipython3",
   "version": "3.11.4"
  },
  "orig_nbformat": 4
 },
 "nbformat": 4,
 "nbformat_minor": 2
}
