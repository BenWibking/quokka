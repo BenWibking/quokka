{
 "cells": [
  {
   "cell_type": "code",
   "execution_count": 1,
   "metadata": {},
   "outputs": [],
   "source": [
    "from sympy import *\n",
    "init_printing(use_unicode=True)"
   ]
  },
  {
   "cell_type": "markdown",
   "metadata": {},
   "source": [
    "## Convecting vortex"
   ]
  },
  {
   "cell_type": "code",
   "execution_count": 2,
   "metadata": {},
   "outputs": [],
   "source": [
    "x = Symbol('x')\n",
    "y = Symbol('y')\n",
    "u_0 = Symbol('u_0')\n",
    "R_v = Symbol('R_v')\n",
    "G = Symbol('G')\n",
    "R = sqrt(x**2 + y**2)"
   ]
  },
  {
   "cell_type": "code",
   "execution_count": 3,
   "metadata": {},
   "outputs": [
    {
     "data": {
      "image/png": "[encoded data removed]",
      "text/latex": [
       "$\\displaystyle G e^{\\frac{- x^{2} - y^{2}}{2 R_{v}^{2}}}$"
      ],
      "text/plain": [
       "      2    2\n",
       "   - x  - y \n",
       "   ─────────\n",
       "         2  \n",
       "     2⋅Rᵥ   \n",
       "G⋅ℯ         "
      ]
     },
     "execution_count": 3,
     "metadata": {},
     "output_type": "execute_result"
    }
   ],
   "source": [
    "# streamfunction\n",
    "psi = G * exp(-R**2 / (2*R_v**2))\n",
    "psi"
   ]
  },
  {
   "cell_type": "code",
   "execution_count": 4,
   "metadata": {},
   "outputs": [
    {
     "name": "stdout",
     "output_type": "stream",
     "text": [
      "du = -G*y*std::exp(-1.0/2.0*(std::pow(x, 2) + std::pow(y, 2))/std::pow(R_v, 2))/std::pow(R_v, 2);\n"
     ]
    }
   ],
   "source": [
    "u = simplify(Derivative(psi, y))\n",
    "print(cxxcode(u, assign_to='du'))"
   ]
  },
  {
   "cell_type": "code",
   "execution_count": 5,
   "metadata": {},
   "outputs": [
    {
     "name": "stdout",
     "output_type": "stream",
     "text": [
      "dv = G*x*std::exp(-1.0/2.0*(std::pow(x, 2) + std::pow(y, 2))/std::pow(R_v, 2))/std::pow(R_v, 2);\n"
     ]
    }
   ],
   "source": [
    "v = simplify(-Derivative(psi, x))\n",
    "print(cxxcode(v, assign_to='dv'))"
   ]
  },
  {
   "cell_type": "code",
   "execution_count": 6,
   "metadata": {},
   "outputs": [
    {
     "name": "stdout",
     "output_type": "stream",
     "text": [
      "dP = -0.5*std::pow(G, 2)*P_ref*gamma*std::exp((-std::pow(x, 2) - std::pow(y, 2))/std::pow(R_v, 2))/(std::pow(R_v, 2)*std::pow(c, 2));\n"
     ]
    }
   ],
   "source": [
    "P_ref = Symbol(\"P_ref\")\n",
    "gamma = Symbol(\"gamma\")\n",
    "c = Symbol(\"c\")\n",
    "P = P_ref * -0.5 * gamma * (G/(c*R_v))**2 * exp(-R**2 / R_v**2)\n",
    "print(cxxcode(P, assign_to='dP'))"
   ]
  }
 ],
 "metadata": {
  "kernelspec": {
   "display_name": "Python 3",
   "language": "python",
   "name": "python3"
  },
  "language_info": {
   "codemirror_mode": {
    "name": "ipython",
    "version": 3
   },
   "file_extension": ".py",
   "mimetype": "text/x-python",
   "name": "python",
   "nbconvert_exporter": "python",
   "pygments_lexer": "ipython3",
   "version": "3.11.5"
  },
  "orig_nbformat": 4
 },
 "nbformat": 4,
 "nbformat_minor": 2
}
